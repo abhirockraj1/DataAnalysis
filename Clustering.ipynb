{
 "cells": [
  {
   "cell_type": "code",
   "execution_count": 124,
   "id": "ad16ed76",
   "metadata": {},
   "outputs": [],
   "source": [
    "import pandas as pd\n",
    "import numpy as np\n",
    "from matplotlib import pyplot as plt\n",
    "from sklearn.model_selection import train_test_split\n",
    "import opendatasets as od\n",
    "from sklearn.metrics import accuracy_score\n",
    "from sklearn.cluster import KMeans"
   ]
  },
  {
   "cell_type": "code",
   "execution_count": 3,
   "id": "2eef328a",
   "metadata": {},
   "outputs": [
    {
     "name": "stdout",
     "output_type": "stream",
     "text": [
      "Please provide your Kaggle credentials to download this dataset. Learn more: http://bit.ly/kaggle-creds\n",
      "Your Kaggle username: rajabhi1\n",
      "Your Kaggle Key: ········\n",
      "Downloading iris-flower-dataset.zip to .\\iris-flower-dataset\n"
     ]
    },
    {
     "name": "stderr",
     "output_type": "stream",
     "text": [
      "100%|██████████████████████████████████████████████████████████████████████████████| 0.99k/0.99k [00:00<00:00, 995kB/s]"
     ]
    },
    {
     "name": "stdout",
     "output_type": "stream",
     "text": [
      "\n"
     ]
    },
    {
     "name": "stderr",
     "output_type": "stream",
     "text": [
      "\n"
     ]
    }
   ],
   "source": [
    "# Assign the Kaggle data set URL into variable\n",
    "dataset = 'https://www.kaggle.com/datasets/arshid/iris-flower-dataset'\n",
    "# Using opendatasets let's download the data sets\n",
    "od.download(dataset )"
   ]
  },
  {
   "cell_type": "code",
   "execution_count": 5,
   "id": "3eae1b76",
   "metadata": {},
   "outputs": [
    {
     "data": {
      "text/html": [
       "<div>\n",
       "<style scoped>\n",
       "    .dataframe tbody tr th:only-of-type {\n",
       "        vertical-align: middle;\n",
       "    }\n",
       "\n",
       "    .dataframe tbody tr th {\n",
       "        vertical-align: top;\n",
       "    }\n",
       "\n",
       "    .dataframe thead th {\n",
       "        text-align: right;\n",
       "    }\n",
       "</style>\n",
       "<table border=\"1\" class=\"dataframe\">\n",
       "  <thead>\n",
       "    <tr style=\"text-align: right;\">\n",
       "      <th></th>\n",
       "      <th>sepal_length</th>\n",
       "      <th>sepal_width</th>\n",
       "      <th>petal_length</th>\n",
       "      <th>petal_width</th>\n",
       "      <th>species</th>\n",
       "    </tr>\n",
       "  </thead>\n",
       "  <tbody>\n",
       "    <tr>\n",
       "      <th>0</th>\n",
       "      <td>5.1</td>\n",
       "      <td>3.5</td>\n",
       "      <td>1.4</td>\n",
       "      <td>0.2</td>\n",
       "      <td>Iris-setosa</td>\n",
       "    </tr>\n",
       "    <tr>\n",
       "      <th>1</th>\n",
       "      <td>4.9</td>\n",
       "      <td>3.0</td>\n",
       "      <td>1.4</td>\n",
       "      <td>0.2</td>\n",
       "      <td>Iris-setosa</td>\n",
       "    </tr>\n",
       "    <tr>\n",
       "      <th>2</th>\n",
       "      <td>4.7</td>\n",
       "      <td>3.2</td>\n",
       "      <td>1.3</td>\n",
       "      <td>0.2</td>\n",
       "      <td>Iris-setosa</td>\n",
       "    </tr>\n",
       "    <tr>\n",
       "      <th>3</th>\n",
       "      <td>4.6</td>\n",
       "      <td>3.1</td>\n",
       "      <td>1.5</td>\n",
       "      <td>0.2</td>\n",
       "      <td>Iris-setosa</td>\n",
       "    </tr>\n",
       "    <tr>\n",
       "      <th>4</th>\n",
       "      <td>5.0</td>\n",
       "      <td>3.6</td>\n",
       "      <td>1.4</td>\n",
       "      <td>0.2</td>\n",
       "      <td>Iris-setosa</td>\n",
       "    </tr>\n",
       "  </tbody>\n",
       "</table>\n",
       "</div>"
      ],
      "text/plain": [
       "   sepal_length  sepal_width  petal_length  petal_width      species\n",
       "0           5.1          3.5           1.4          0.2  Iris-setosa\n",
       "1           4.9          3.0           1.4          0.2  Iris-setosa\n",
       "2           4.7          3.2           1.3          0.2  Iris-setosa\n",
       "3           4.6          3.1           1.5          0.2  Iris-setosa\n",
       "4           5.0          3.6           1.4          0.2  Iris-setosa"
      ]
     },
     "execution_count": 5,
     "metadata": {},
     "output_type": "execute_result"
    }
   ],
   "source": [
    "df = pd.read_csv(\"D:/DataAnalysis/iris-flower-dataset/IRIS.csv\",index_col=False)\n",
    "df.head()"
   ]
  },
  {
   "cell_type": "code",
   "execution_count": 119,
   "id": "81bda5c6",
   "metadata": {},
   "outputs": [],
   "source": [
    "df['species'] = df['species'].replace(['Iris-setosa', 'Iris-versicolor', 'Iris-virginica'],[0,1,2])"
   ]
  },
  {
   "cell_type": "code",
   "execution_count": 120,
   "id": "ced7467f",
   "metadata": {},
   "outputs": [],
   "source": [
    "x = df.drop(['species'],axis=1)\n",
    "y = df['species']\n",
    "X_train, X_test, y_train, y_test = train_test_split(x, y, random_state=42, train_size = 0.75)\n"
   ]
  },
  {
   "cell_type": "markdown",
   "id": "b18ba79f",
   "metadata": {},
   "source": [
    "## Initialing the centroid with best X_train example to fit the centroid"
   ]
  },
  {
   "cell_type": "code",
   "execution_count": 28,
   "id": "17c0fa74",
   "metadata": {},
   "outputs": [],
   "source": [
    "def findInitialCentroid(XTrain, no_of_clusters, n_iter):\n",
    "#     Initial cost function\n",
    "    J=200.0\n",
    "    x_t = np.asarray(XTrain)\n",
    "    for i in range(n_iter):\n",
    "        randomRows= np.array([])\n",
    "        randomRowNo = np.random.randint(low= x_t.shape[0],size=no_of_clusters)\n",
    "        for j in randomRowNo: \n",
    "            b = np.reshape(x_t[j,:],(1,x_t[j,:].shape[0]))\n",
    "            randomRows = np.append(randomRows,b)\n",
    "        randomRows = np.reshape(randomRows , (no_of_clusters,x_t[j,:].shape[0]))\n",
    "        c=0\n",
    "        for a1 in range(x_t.shape[0]):\n",
    "            l1=[]\n",
    "            for b1 in range(no_of_clusters):\n",
    "#                 calculating eculidan distance btw every row and the random samples \n",
    "                manhattanDistance = x_t[a1][:]-randomRows[b1][:]\n",
    "                l1.append(np.sqrt(np.dot(manhattanDistance,manhattanDistance)))   \n",
    "            c= c+min(l1)   \n",
    "    #     c=np.sum((np.minimum(np.square(x_t-k[0][:]) ,np.square(x_t-k[1][:]),np.square(x_t-k[2][:]))))\n",
    "        if( c < J):\n",
    "            J = c\n",
    "            randomRows_final = randomRows\n",
    "#             print(randomRows_final,J)\n",
    "    return randomRows_final    \n",
    "    "
   ]
  },
  {
   "cell_type": "markdown",
   "id": "b1185ff8",
   "metadata": {},
   "source": [
    "## Creating the training loop after K_means centroids"
   ]
  },
  {
   "cell_type": "code",
   "execution_count": 104,
   "id": "3af39acb",
   "metadata": {},
   "outputs": [],
   "source": [
    "def assignCentroid(centroid,x_t,no_of_clusters):\n",
    "    #     assiginig points to cluster centroids\n",
    "        clusterGroup = []\n",
    "        for j in range(x_t.shape[0]):\n",
    "            distance=[]\n",
    "            for k in range(no_of_clusters):\n",
    "                manhattanDistance = x_t[j][:]-centroid[k][:]\n",
    "                distance.append(np.sqrt(np.dot(manhattanDistance,manhattanDistance)))\n",
    "            clusterGroup.append(distance.index(min(distance))) \n",
    "        clusterGroup = np.array(clusterGroup)\n",
    "        clusterGroup= np.reshape(clusterGroup,(clusterGroup.shape[0],1))\n",
    "        return clusterGroup\n",
    "    \n",
    "def moveCentroid(clusterGroup, x_t, no_of_clusters):\n",
    "    #     move the cluster centroid \n",
    "        k2 = []\n",
    "        for n in range(no_of_clusters):\n",
    "            a1 = x_t[np.where(clusterGroup[:,0] == n)].mean(axis=0)\n",
    "            k2.append(a1)\n",
    "        return np.array(k2) \n",
    "    \n",
    "def trainLoop(epoch, XTrain, no_of_clusters):\n",
    "    x_t = np.asarray(XTrain)\n",
    "    centroid = findInitialCentroid(XTrain,no_of_clusters,1000)\n",
    "    for i in range(epoch):\n",
    "        clusterGroup = assignCentroid(centroid,x_t,no_of_clusters)\n",
    "        newCentroid = moveCentroid(clusterGroup,x_t,no_of_clusters)\n",
    "        if(newCentroid == centroid).all():\n",
    "            print(i)\n",
    "            break\n",
    "        centroid = newCentroid  \n",
    "    return centroid ,  clusterGroup      \n",
    "    "
   ]
  },
  {
   "cell_type": "code",
   "execution_count": 108,
   "id": "985dde13",
   "metadata": {},
   "outputs": [
    {
     "name": "stdout",
     "output_type": "stream",
     "text": [
      "5\n"
     ]
    }
   ],
   "source": [
    "centroid,groupsTrain = trainLoop(200, X_train,3)"
   ]
  },
  {
   "cell_type": "code",
   "execution_count": 109,
   "id": "99a43479",
   "metadata": {},
   "outputs": [
    {
     "name": "stdout",
     "output_type": "stream",
     "text": [
      "[[4.99714286 3.41428571 1.46285714 0.24285714]\n",
      " [5.81875    2.71875    4.37083333 1.43333333]\n",
      " [6.85517241 3.10344828 5.70689655 2.02068966]]\n"
     ]
    }
   ],
   "source": [
    "print(centroid)"
   ]
  },
  {
   "cell_type": "markdown",
   "id": "5376dced",
   "metadata": {},
   "source": [
    "## Finding cluster group for test data"
   ]
  },
  {
   "cell_type": "code",
   "execution_count": 110,
   "id": "bd0248a0",
   "metadata": {},
   "outputs": [],
   "source": [
    "groupsTest = assignCentroid(centroid,np.asarray(X_test),3) "
   ]
  },
  {
   "cell_type": "code",
   "execution_count": 122,
   "id": "1740f40b",
   "metadata": {},
   "outputs": [
    {
     "data": {
      "text/plain": [
       "0.9473684210526315"
      ]
     },
     "execution_count": 122,
     "metadata": {},
     "output_type": "execute_result"
    }
   ],
   "source": [
    "accuracy_score(y_test,groupsTest)"
   ]
  },
  {
   "cell_type": "markdown",
   "id": "9ce17ec9",
   "metadata": {},
   "source": [
    "## Using Sklearn "
   ]
  },
  {
   "cell_type": "code",
   "execution_count": 125,
   "id": "293650d0",
   "metadata": {},
   "outputs": [
    {
     "name": "stderr",
     "output_type": "stream",
     "text": [
      "C:\\Users\\abhin\\anaconda3\\lib\\site-packages\\sklearn\\cluster\\_kmeans.py:1334: UserWarning: KMeans is known to have a memory leak on Windows with MKL, when there are less chunks than available threads. You can avoid it by setting the environment variable OMP_NUM_THREADS=1.\n",
      "  warnings.warn(\n",
      "C:\\Users\\abhin\\anaconda3\\lib\\site-packages\\sklearn\\cluster\\_kmeans.py:1334: UserWarning: KMeans is known to have a memory leak on Windows with MKL, when there are less chunks than available threads. You can avoid it by setting the environment variable OMP_NUM_THREADS=1.\n",
      "  warnings.warn(\n",
      "C:\\Users\\abhin\\anaconda3\\lib\\site-packages\\sklearn\\cluster\\_kmeans.py:1334: UserWarning: KMeans is known to have a memory leak on Windows with MKL, when there are less chunks than available threads. You can avoid it by setting the environment variable OMP_NUM_THREADS=1.\n",
      "  warnings.warn(\n",
      "C:\\Users\\abhin\\anaconda3\\lib\\site-packages\\sklearn\\cluster\\_kmeans.py:1334: UserWarning: KMeans is known to have a memory leak on Windows with MKL, when there are less chunks than available threads. You can avoid it by setting the environment variable OMP_NUM_THREADS=1.\n",
      "  warnings.warn(\n",
      "C:\\Users\\abhin\\anaconda3\\lib\\site-packages\\sklearn\\cluster\\_kmeans.py:1334: UserWarning: KMeans is known to have a memory leak on Windows with MKL, when there are less chunks than available threads. You can avoid it by setting the environment variable OMP_NUM_THREADS=1.\n",
      "  warnings.warn(\n",
      "C:\\Users\\abhin\\anaconda3\\lib\\site-packages\\sklearn\\cluster\\_kmeans.py:1334: UserWarning: KMeans is known to have a memory leak on Windows with MKL, when there are less chunks than available threads. You can avoid it by setting the environment variable OMP_NUM_THREADS=1.\n",
      "  warnings.warn(\n",
      "C:\\Users\\abhin\\anaconda3\\lib\\site-packages\\sklearn\\cluster\\_kmeans.py:1334: UserWarning: KMeans is known to have a memory leak on Windows with MKL, when there are less chunks than available threads. You can avoid it by setting the environment variable OMP_NUM_THREADS=1.\n",
      "  warnings.warn(\n",
      "C:\\Users\\abhin\\anaconda3\\lib\\site-packages\\sklearn\\cluster\\_kmeans.py:1334: UserWarning: KMeans is known to have a memory leak on Windows with MKL, when there are less chunks than available threads. You can avoid it by setting the environment variable OMP_NUM_THREADS=1.\n",
      "  warnings.warn(\n",
      "C:\\Users\\abhin\\anaconda3\\lib\\site-packages\\sklearn\\cluster\\_kmeans.py:1334: UserWarning: KMeans is known to have a memory leak on Windows with MKL, when there are less chunks than available threads. You can avoid it by setting the environment variable OMP_NUM_THREADS=1.\n",
      "  warnings.warn(\n",
      "C:\\Users\\abhin\\anaconda3\\lib\\site-packages\\sklearn\\cluster\\_kmeans.py:1334: UserWarning: KMeans is known to have a memory leak on Windows with MKL, when there are less chunks than available threads. You can avoid it by setting the environment variable OMP_NUM_THREADS=1.\n",
      "  warnings.warn(\n"
     ]
    }
   ],
   "source": [
    "#Finding the optimum number of clusters for k-means classification\n",
    "wcss = []\n",
    "for i in range(1, 11):\n",
    "    kmeans = KMeans(n_clusters = i, init = 'k-means++', max_iter = 300, n_init = 10, random_state = 0)\n",
    "    kmeans.fit(X_train)\n",
    "    wcss.append(kmeans.inertia_)"
   ]
  },
  {
   "cell_type": "code",
   "execution_count": 126,
   "id": "a8745edc",
   "metadata": {},
   "outputs": [
    {
     "data": {
      "image/png": "[encoded data removed]",
      "text/plain": [
       "<Figure size 432x288 with 1 Axes>"
      ]
     },
     "metadata": {
      "needs_background": "light"
     },
     "output_type": "display_data"
    }
   ],
   "source": [
    "plt.plot(range(1, 11), wcss)\n",
    "plt.title('The elbow method')\n",
    "plt.xlabel('Number of clusters')\n",
    "plt.ylabel('WCSS') #within cluster sum of squares\n",
    "plt.show()"
   ]
  },
  {
   "cell_type": "code",
   "execution_count": 130,
   "id": "11faa7ee",
   "metadata": {},
   "outputs": [
    {
     "name": "stderr",
     "output_type": "stream",
     "text": [
      "C:\\Users\\abhin\\anaconda3\\lib\\site-packages\\sklearn\\cluster\\_kmeans.py:1334: UserWarning: KMeans is known to have a memory leak on Windows with MKL, when there are less chunks than available threads. You can avoid it by setting the environment variable OMP_NUM_THREADS=1.\n",
      "  warnings.warn(\n"
     ]
    }
   ],
   "source": [
    "kmeans = KMeans(n_clusters = 3, init = 'k-means++', max_iter = 300, n_init = 10, random_state = 0)\n",
    "y_kmeans = kmeans.fit(X_train)"
   ]
  },
  {
   "cell_type": "code",
   "execution_count": 131,
   "id": "f8fa8695",
   "metadata": {},
   "outputs": [
    {
     "data": {
      "text/plain": [
       "0.9473684210526315"
      ]
     },
     "execution_count": 131,
     "metadata": {},
     "output_type": "execute_result"
    }
   ],
   "source": [
    "yP = kmeans.predict(X_test)\n",
    "accuracy_score(y_test,yP)"
   ]
  },
  {
   "cell_type": "markdown",
   "id": "f374a483",
   "metadata": {},
   "source": [
    "## We can see by sklearn and self made libarary we are getting the the accuracy "
   ]
  },
  {
   "cell_type": "code",
   "execution_count": null,
   "id": "0e31af59",
   "metadata": {},
   "outputs": [],
   "source": []
  }
 ],
 "metadata": {
  "kernelspec": {
   "display_name": "Python 3 (ipykernel)",
   "language": "python",
   "name": "python3"
  },
  "language_info": {
   "codemirror_mode": {
    "name": "ipython",
    "version": 3
   },
   "file_extension": ".py",
   "mimetype": "text/x-python",
   "name": "python",
   "nbconvert_exporter": "python",
   "pygments_lexer": "ipython3",
   "version": "3.9.12"
  }
 },
 "nbformat": 4,
 "nbformat_minor": 5
}
