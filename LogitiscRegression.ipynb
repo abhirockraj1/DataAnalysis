{
 "cells": [
  {
   "cell_type": "code",
   "execution_count": 3,
   "metadata": {
    "id": "ebfAl1wQnDUp"
   },
   "outputs": [],
   "source": [
    "# !pip install opendatasets --upgrade --quiet\n",
    "!pip install statsmodels --upgrade --quiet"
   ]
  },
  {
   "cell_type": "code",
   "execution_count": 128,
   "metadata": {
    "id": "49ZZf8B6ixAb"
   },
   "outputs": [],
   "source": [
    "import tensorflow as tf\n",
    "from matplotlib import pyplot as plt\n",
    "import numpy as np\n",
    "from tensorflow.keras.optimizers import Adam,SGD\n",
    "import pandas as pd\n",
    "import os\n",
    "import opendatasets as od\n",
    "import datetime as dt\n",
    "from sklearn.model_selection import train_test_split\n",
    "from sklearn import metrics\n",
    "from sklearn.linear_model import LinearRegression\n",
    "from scipy.stats import chi2_contingency\n",
    "import statsmodels.api as sm\n",
    "from statsmodels.formula.api import ols\n",
    "from sklearn.metrics import accuracy_score"
   ]
  },
  {
   "cell_type": "code",
   "execution_count": 5,
   "metadata": {
    "colab": {
     "base_uri": "https://localhost:8080/"
    },
    "id": "mz9hBSVfjtQb",
    "outputId": "07934d44-8172-4644-ffd9-4107877d9bfc"
   },
   "outputs": [
    {
     "name": "stdout",
     "output_type": "stream",
     "text": [
      "Please provide your Kaggle credentials to download this dataset. Learn more: http://bit.ly/kaggle-creds\n",
      "Your Kaggle username: rajabhi1\n",
      "Your Kaggle Key: ········\n",
      "Downloading bank-customer-churn-dataset.zip to .\\bank-customer-churn-dataset\n"
     ]
    },
    {
     "name": "stderr",
     "output_type": "stream",
     "text": [
      "100%|███████████████████████████████████████████████████████████████████████████████| 187k/187k [00:02<00:00, 91.4kB/s]"
     ]
    },
    {
     "name": "stdout",
     "output_type": "stream",
     "text": [
      "\n"
     ]
    },
    {
     "name": "stderr",
     "output_type": "stream",
     "text": [
      "\n"
     ]
    }
   ],
   "source": [
    "# Assign the Kaggle data set URL into variable\n",
    "dataset = 'https://www.kaggle.com/datasets/gauravtopre/bank-customer-churn-dataset'\n",
    "# Using opendatasets let's download the data sets\n",
    "od.download(dataset )"
   ]
  },
  {
   "cell_type": "code",
   "execution_count": 7,
   "metadata": {
    "colab": {
     "base_uri": "https://localhost:8080/",
     "height": 206
    },
    "id": "b0Up9sOhnSOh",
    "outputId": "17066d88-8b5b-4adb-b099-56c47a3a4f7a"
   },
   "outputs": [
    {
     "data": {
      "text/html": [
       "<div>\n",
       "<style scoped>\n",
       "    .dataframe tbody tr th:only-of-type {\n",
       "        vertical-align: middle;\n",
       "    }\n",
       "\n",
       "    .dataframe tbody tr th {\n",
       "        vertical-align: top;\n",
       "    }\n",
       "\n",
       "    .dataframe thead th {\n",
       "        text-align: right;\n",
       "    }\n",
       "</style>\n",
       "<table border=\"1\" class=\"dataframe\">\n",
       "  <thead>\n",
       "    <tr style=\"text-align: right;\">\n",
       "      <th></th>\n",
       "      <th>customer_id</th>\n",
       "      <th>credit_score</th>\n",
       "      <th>country</th>\n",
       "      <th>gender</th>\n",
       "      <th>age</th>\n",
       "      <th>tenure</th>\n",
       "      <th>balance</th>\n",
       "      <th>products_number</th>\n",
       "      <th>credit_card</th>\n",
       "      <th>active_member</th>\n",
       "      <th>estimated_salary</th>\n",
       "      <th>churn</th>\n",
       "    </tr>\n",
       "  </thead>\n",
       "  <tbody>\n",
       "    <tr>\n",
       "      <th>0</th>\n",
       "      <td>15634602</td>\n",
       "      <td>619</td>\n",
       "      <td>France</td>\n",
       "      <td>Female</td>\n",
       "      <td>42</td>\n",
       "      <td>2</td>\n",
       "      <td>0.00</td>\n",
       "      <td>1</td>\n",
       "      <td>1</td>\n",
       "      <td>1</td>\n",
       "      <td>101348.88</td>\n",
       "      <td>1</td>\n",
       "    </tr>\n",
       "    <tr>\n",
       "      <th>1</th>\n",
       "      <td>15647311</td>\n",
       "      <td>608</td>\n",
       "      <td>Spain</td>\n",
       "      <td>Female</td>\n",
       "      <td>41</td>\n",
       "      <td>1</td>\n",
       "      <td>83807.86</td>\n",
       "      <td>1</td>\n",
       "      <td>0</td>\n",
       "      <td>1</td>\n",
       "      <td>112542.58</td>\n",
       "      <td>0</td>\n",
       "    </tr>\n",
       "    <tr>\n",
       "      <th>2</th>\n",
       "      <td>15619304</td>\n",
       "      <td>502</td>\n",
       "      <td>France</td>\n",
       "      <td>Female</td>\n",
       "      <td>42</td>\n",
       "      <td>8</td>\n",
       "      <td>159660.80</td>\n",
       "      <td>3</td>\n",
       "      <td>1</td>\n",
       "      <td>0</td>\n",
       "      <td>113931.57</td>\n",
       "      <td>1</td>\n",
       "    </tr>\n",
       "    <tr>\n",
       "      <th>3</th>\n",
       "      <td>15701354</td>\n",
       "      <td>699</td>\n",
       "      <td>France</td>\n",
       "      <td>Female</td>\n",
       "      <td>39</td>\n",
       "      <td>1</td>\n",
       "      <td>0.00</td>\n",
       "      <td>2</td>\n",
       "      <td>0</td>\n",
       "      <td>0</td>\n",
       "      <td>93826.63</td>\n",
       "      <td>0</td>\n",
       "    </tr>\n",
       "    <tr>\n",
       "      <th>4</th>\n",
       "      <td>15737888</td>\n",
       "      <td>850</td>\n",
       "      <td>Spain</td>\n",
       "      <td>Female</td>\n",
       "      <td>43</td>\n",
       "      <td>2</td>\n",
       "      <td>125510.82</td>\n",
       "      <td>1</td>\n",
       "      <td>1</td>\n",
       "      <td>1</td>\n",
       "      <td>79084.10</td>\n",
       "      <td>0</td>\n",
       "    </tr>\n",
       "  </tbody>\n",
       "</table>\n",
       "</div>"
      ],
      "text/plain": [
       "   customer_id  credit_score country  gender  age  tenure    balance  \\\n",
       "0     15634602           619  France  Female   42       2       0.00   \n",
       "1     15647311           608   Spain  Female   41       1   83807.86   \n",
       "2     15619304           502  France  Female   42       8  159660.80   \n",
       "3     15701354           699  France  Female   39       1       0.00   \n",
       "4     15737888           850   Spain  Female   43       2  125510.82   \n",
       "\n",
       "   products_number  credit_card  active_member  estimated_salary  churn  \n",
       "0                1            1              1         101348.88      1  \n",
       "1                1            0              1         112542.58      0  \n",
       "2                3            1              0         113931.57      1  \n",
       "3                2            0              0          93826.63      0  \n",
       "4                1            1              1          79084.10      0  "
      ]
     },
     "execution_count": 7,
     "metadata": {},
     "output_type": "execute_result"
    }
   ],
   "source": [
    "df = pd.read_csv(\"D:/DataAnalysis/bank-customer-churn-dataset/Bank Customer Churn Prediction.csv\")\n",
    "df.head()"
   ]
  },
  {
   "cell_type": "code",
   "execution_count": 8,
   "metadata": {
    "colab": {
     "base_uri": "https://localhost:8080/",
     "height": 206
    },
    "id": "L4yLsIWLoNDk",
    "outputId": "df031987-5029-4ed2-cfa8-72a0eea5a8fc"
   },
   "outputs": [
    {
     "data": {
      "text/html": [
       "<div>\n",
       "<style scoped>\n",
       "    .dataframe tbody tr th:only-of-type {\n",
       "        vertical-align: middle;\n",
       "    }\n",
       "\n",
       "    .dataframe tbody tr th {\n",
       "        vertical-align: top;\n",
       "    }\n",
       "\n",
       "    .dataframe thead th {\n",
       "        text-align: right;\n",
       "    }\n",
       "</style>\n",
       "<table border=\"1\" class=\"dataframe\">\n",
       "  <thead>\n",
       "    <tr style=\"text-align: right;\">\n",
       "      <th></th>\n",
       "      <th>credit_score</th>\n",
       "      <th>age</th>\n",
       "      <th>tenure</th>\n",
       "      <th>balance</th>\n",
       "      <th>products_number</th>\n",
       "      <th>credit_card</th>\n",
       "      <th>active_member</th>\n",
       "      <th>estimated_salary</th>\n",
       "      <th>churn</th>\n",
       "    </tr>\n",
       "  </thead>\n",
       "  <tbody>\n",
       "    <tr>\n",
       "      <th>0</th>\n",
       "      <td>619</td>\n",
       "      <td>42</td>\n",
       "      <td>2</td>\n",
       "      <td>0.00</td>\n",
       "      <td>1</td>\n",
       "      <td>1</td>\n",
       "      <td>1</td>\n",
       "      <td>101348.88</td>\n",
       "      <td>1</td>\n",
       "    </tr>\n",
       "    <tr>\n",
       "      <th>1</th>\n",
       "      <td>608</td>\n",
       "      <td>41</td>\n",
       "      <td>1</td>\n",
       "      <td>83807.86</td>\n",
       "      <td>1</td>\n",
       "      <td>0</td>\n",
       "      <td>1</td>\n",
       "      <td>112542.58</td>\n",
       "      <td>0</td>\n",
       "    </tr>\n",
       "    <tr>\n",
       "      <th>2</th>\n",
       "      <td>502</td>\n",
       "      <td>42</td>\n",
       "      <td>8</td>\n",
       "      <td>159660.80</td>\n",
       "      <td>3</td>\n",
       "      <td>1</td>\n",
       "      <td>0</td>\n",
       "      <td>113931.57</td>\n",
       "      <td>1</td>\n",
       "    </tr>\n",
       "    <tr>\n",
       "      <th>3</th>\n",
       "      <td>699</td>\n",
       "      <td>39</td>\n",
       "      <td>1</td>\n",
       "      <td>0.00</td>\n",
       "      <td>2</td>\n",
       "      <td>0</td>\n",
       "      <td>0</td>\n",
       "      <td>93826.63</td>\n",
       "      <td>0</td>\n",
       "    </tr>\n",
       "    <tr>\n",
       "      <th>4</th>\n",
       "      <td>850</td>\n",
       "      <td>43</td>\n",
       "      <td>2</td>\n",
       "      <td>125510.82</td>\n",
       "      <td>1</td>\n",
       "      <td>1</td>\n",
       "      <td>1</td>\n",
       "      <td>79084.10</td>\n",
       "      <td>0</td>\n",
       "    </tr>\n",
       "  </tbody>\n",
       "</table>\n",
       "</div>"
      ],
      "text/plain": [
       "   credit_score  age  tenure    balance  products_number  credit_card  \\\n",
       "0           619   42       2       0.00                1            1   \n",
       "1           608   41       1   83807.86                1            0   \n",
       "2           502   42       8  159660.80                3            1   \n",
       "3           699   39       1       0.00                2            0   \n",
       "4           850   43       2  125510.82                1            1   \n",
       "\n",
       "   active_member  estimated_salary  churn  \n",
       "0              1         101348.88      1  \n",
       "1              1         112542.58      0  \n",
       "2              0         113931.57      1  \n",
       "3              0          93826.63      0  \n",
       "4              1          79084.10      0  "
      ]
     },
     "execution_count": 8,
     "metadata": {},
     "output_type": "execute_result"
    }
   ],
   "source": [
    "df = df.drop(['customer_id','country','gender'], axis=1)\n",
    "df.head()"
   ]
  },
  {
   "cell_type": "code",
   "execution_count": 9,
   "metadata": {
    "colab": {
     "base_uri": "https://localhost:8080/"
    },
    "id": "Rw9PPHcjobWK",
    "outputId": "36607193-b6f1-451b-f30f-84192730c1f1"
   },
   "outputs": [
    {
     "name": "stdout",
     "output_type": "stream",
     "text": [
      "<class 'pandas.core.frame.DataFrame'>\n",
      "RangeIndex: 10000 entries, 0 to 9999\n",
      "Data columns (total 9 columns):\n",
      " #   Column            Non-Null Count  Dtype  \n",
      "---  ------            --------------  -----  \n",
      " 0   credit_score      10000 non-null  int64  \n",
      " 1   age               10000 non-null  int64  \n",
      " 2   tenure            10000 non-null  int64  \n",
      " 3   balance           10000 non-null  float64\n",
      " 4   products_number   10000 non-null  int64  \n",
      " 5   credit_card       10000 non-null  int64  \n",
      " 6   active_member     10000 non-null  int64  \n",
      " 7   estimated_salary  10000 non-null  float64\n",
      " 8   churn             10000 non-null  int64  \n",
      "dtypes: float64(2), int64(7)\n",
      "memory usage: 703.2 KB\n"
     ]
    }
   ],
   "source": [
    "df.info()"
   ]
  },
  {
   "cell_type": "code",
   "execution_count": 10,
   "metadata": {
    "colab": {
     "base_uri": "https://localhost:8080/",
     "height": 300
    },
    "id": "LVa5zb5gq-wV",
    "outputId": "02901b7b-154e-4488-d904-6446539244d2"
   },
   "outputs": [
    {
     "data": {
      "text/html": [
       "<div>\n",
       "<style scoped>\n",
       "    .dataframe tbody tr th:only-of-type {\n",
       "        vertical-align: middle;\n",
       "    }\n",
       "\n",
       "    .dataframe tbody tr th {\n",
       "        vertical-align: top;\n",
       "    }\n",
       "\n",
       "    .dataframe thead th {\n",
       "        text-align: right;\n",
       "    }\n",
       "</style>\n",
       "<table border=\"1\" class=\"dataframe\">\n",
       "  <thead>\n",
       "    <tr style=\"text-align: right;\">\n",
       "      <th></th>\n",
       "      <th>credit_score</th>\n",
       "      <th>age</th>\n",
       "      <th>tenure</th>\n",
       "      <th>balance</th>\n",
       "      <th>products_number</th>\n",
       "      <th>credit_card</th>\n",
       "      <th>active_member</th>\n",
       "      <th>estimated_salary</th>\n",
       "      <th>churn</th>\n",
       "    </tr>\n",
       "  </thead>\n",
       "  <tbody>\n",
       "    <tr>\n",
       "      <th>count</th>\n",
       "      <td>10000.000000</td>\n",
       "      <td>10000.000000</td>\n",
       "      <td>10000.000000</td>\n",
       "      <td>10000.000000</td>\n",
       "      <td>10000.000000</td>\n",
       "      <td>10000.00000</td>\n",
       "      <td>10000.000000</td>\n",
       "      <td>10000.000000</td>\n",
       "      <td>10000.000000</td>\n",
       "    </tr>\n",
       "    <tr>\n",
       "      <th>mean</th>\n",
       "      <td>650.528800</td>\n",
       "      <td>38.921800</td>\n",
       "      <td>5.012800</td>\n",
       "      <td>76485.889288</td>\n",
       "      <td>1.530200</td>\n",
       "      <td>0.70550</td>\n",
       "      <td>0.515100</td>\n",
       "      <td>100090.239881</td>\n",
       "      <td>0.203700</td>\n",
       "    </tr>\n",
       "    <tr>\n",
       "      <th>std</th>\n",
       "      <td>96.653299</td>\n",
       "      <td>10.487806</td>\n",
       "      <td>2.892174</td>\n",
       "      <td>62397.405202</td>\n",
       "      <td>0.581654</td>\n",
       "      <td>0.45584</td>\n",
       "      <td>0.499797</td>\n",
       "      <td>57510.492818</td>\n",
       "      <td>0.402769</td>\n",
       "    </tr>\n",
       "    <tr>\n",
       "      <th>min</th>\n",
       "      <td>350.000000</td>\n",
       "      <td>18.000000</td>\n",
       "      <td>0.000000</td>\n",
       "      <td>0.000000</td>\n",
       "      <td>1.000000</td>\n",
       "      <td>0.00000</td>\n",
       "      <td>0.000000</td>\n",
       "      <td>11.580000</td>\n",
       "      <td>0.000000</td>\n",
       "    </tr>\n",
       "    <tr>\n",
       "      <th>25%</th>\n",
       "      <td>584.000000</td>\n",
       "      <td>32.000000</td>\n",
       "      <td>3.000000</td>\n",
       "      <td>0.000000</td>\n",
       "      <td>1.000000</td>\n",
       "      <td>0.00000</td>\n",
       "      <td>0.000000</td>\n",
       "      <td>51002.110000</td>\n",
       "      <td>0.000000</td>\n",
       "    </tr>\n",
       "    <tr>\n",
       "      <th>50%</th>\n",
       "      <td>652.000000</td>\n",
       "      <td>37.000000</td>\n",
       "      <td>5.000000</td>\n",
       "      <td>97198.540000</td>\n",
       "      <td>1.000000</td>\n",
       "      <td>1.00000</td>\n",
       "      <td>1.000000</td>\n",
       "      <td>100193.915000</td>\n",
       "      <td>0.000000</td>\n",
       "    </tr>\n",
       "    <tr>\n",
       "      <th>75%</th>\n",
       "      <td>718.000000</td>\n",
       "      <td>44.000000</td>\n",
       "      <td>7.000000</td>\n",
       "      <td>127644.240000</td>\n",
       "      <td>2.000000</td>\n",
       "      <td>1.00000</td>\n",
       "      <td>1.000000</td>\n",
       "      <td>149388.247500</td>\n",
       "      <td>0.000000</td>\n",
       "    </tr>\n",
       "    <tr>\n",
       "      <th>max</th>\n",
       "      <td>850.000000</td>\n",
       "      <td>92.000000</td>\n",
       "      <td>10.000000</td>\n",
       "      <td>250898.090000</td>\n",
       "      <td>4.000000</td>\n",
       "      <td>1.00000</td>\n",
       "      <td>1.000000</td>\n",
       "      <td>199992.480000</td>\n",
       "      <td>1.000000</td>\n",
       "    </tr>\n",
       "  </tbody>\n",
       "</table>\n",
       "</div>"
      ],
      "text/plain": [
       "       credit_score           age        tenure        balance  \\\n",
       "count  10000.000000  10000.000000  10000.000000   10000.000000   \n",
       "mean     650.528800     38.921800      5.012800   76485.889288   \n",
       "std       96.653299     10.487806      2.892174   62397.405202   \n",
       "min      350.000000     18.000000      0.000000       0.000000   \n",
       "25%      584.000000     32.000000      3.000000       0.000000   \n",
       "50%      652.000000     37.000000      5.000000   97198.540000   \n",
       "75%      718.000000     44.000000      7.000000  127644.240000   \n",
       "max      850.000000     92.000000     10.000000  250898.090000   \n",
       "\n",
       "       products_number  credit_card  active_member  estimated_salary  \\\n",
       "count     10000.000000  10000.00000   10000.000000      10000.000000   \n",
       "mean          1.530200      0.70550       0.515100     100090.239881   \n",
       "std           0.581654      0.45584       0.499797      57510.492818   \n",
       "min           1.000000      0.00000       0.000000         11.580000   \n",
       "25%           1.000000      0.00000       0.000000      51002.110000   \n",
       "50%           1.000000      1.00000       1.000000     100193.915000   \n",
       "75%           2.000000      1.00000       1.000000     149388.247500   \n",
       "max           4.000000      1.00000       1.000000     199992.480000   \n",
       "\n",
       "              churn  \n",
       "count  10000.000000  \n",
       "mean       0.203700  \n",
       "std        0.402769  \n",
       "min        0.000000  \n",
       "25%        0.000000  \n",
       "50%        0.000000  \n",
       "75%        0.000000  \n",
       "max        1.000000  "
      ]
     },
     "execution_count": 10,
     "metadata": {},
     "output_type": "execute_result"
    }
   ],
   "source": [
    "df.describe()"
   ]
  },
  {
   "cell_type": "code",
   "execution_count": 11,
   "metadata": {
    "colab": {
     "base_uri": "https://localhost:8080/"
    },
    "id": "Xbgp7LKcpPT-",
    "outputId": "064b11dd-7a27-4001-ee09-9d38dee3ee7d"
   },
   "outputs": [
    {
     "name": "stdout",
     "output_type": "stream",
     "text": [
      "products_number and churn are dependent as p =0.0\n",
      "credit_card and churn are independent  as p =0.49237236141554686\n",
      "active_member and churn are dependent as p =8.785858269303703e-55\n",
      "tenure and churn are independent  as p =0.17758462026413294\n"
     ]
    }
   ],
   "source": [
    "# performing chi square test on tenure products_number,credit_card,active_member, churn\n",
    "\n",
    "#making contengancy table\n",
    "list_cat = [\"products_number\",\"credit_card\",\"active_member\",\"tenure\"]\n",
    "for i in list_cat:\n",
    "    dataCrosstab = pd.crosstab(df[i],df['churn'])\n",
    "    chi2, p, dof, expected = chi2_contingency(dataCrosstab)\n",
    "    if(p < 0.05):\n",
    "        print(i+\" and churn are dependent as p =\"+ str(p))\n",
    "    else:\n",
    "        print(i+\" and churn are independent  as p =\"+str(p))\n",
    "# as we can see   products_number and   active_member are dependent on churn so dropping credit_card and tenure"
   ]
  },
  {
   "cell_type": "code",
   "execution_count": 12,
   "metadata": {
    "colab": {
     "base_uri": "https://localhost:8080/",
     "height": 206
    },
    "id": "qJwcZ_Ltsybv",
    "outputId": "4b208d09-a434-4794-dec2-4da5d2c40c65"
   },
   "outputs": [
    {
     "data": {
      "text/html": [
       "<div>\n",
       "<style scoped>\n",
       "    .dataframe tbody tr th:only-of-type {\n",
       "        vertical-align: middle;\n",
       "    }\n",
       "\n",
       "    .dataframe tbody tr th {\n",
       "        vertical-align: top;\n",
       "    }\n",
       "\n",
       "    .dataframe thead th {\n",
       "        text-align: right;\n",
       "    }\n",
       "</style>\n",
       "<table border=\"1\" class=\"dataframe\">\n",
       "  <thead>\n",
       "    <tr style=\"text-align: right;\">\n",
       "      <th></th>\n",
       "      <th>credit_score</th>\n",
       "      <th>age</th>\n",
       "      <th>balance</th>\n",
       "      <th>products_number</th>\n",
       "      <th>active_member</th>\n",
       "      <th>estimated_salary</th>\n",
       "      <th>churn</th>\n",
       "    </tr>\n",
       "  </thead>\n",
       "  <tbody>\n",
       "    <tr>\n",
       "      <th>0</th>\n",
       "      <td>619</td>\n",
       "      <td>42</td>\n",
       "      <td>0.00</td>\n",
       "      <td>1</td>\n",
       "      <td>1</td>\n",
       "      <td>101348.88</td>\n",
       "      <td>1</td>\n",
       "    </tr>\n",
       "    <tr>\n",
       "      <th>1</th>\n",
       "      <td>608</td>\n",
       "      <td>41</td>\n",
       "      <td>83807.86</td>\n",
       "      <td>1</td>\n",
       "      <td>1</td>\n",
       "      <td>112542.58</td>\n",
       "      <td>0</td>\n",
       "    </tr>\n",
       "    <tr>\n",
       "      <th>2</th>\n",
       "      <td>502</td>\n",
       "      <td>42</td>\n",
       "      <td>159660.80</td>\n",
       "      <td>3</td>\n",
       "      <td>0</td>\n",
       "      <td>113931.57</td>\n",
       "      <td>1</td>\n",
       "    </tr>\n",
       "    <tr>\n",
       "      <th>3</th>\n",
       "      <td>699</td>\n",
       "      <td>39</td>\n",
       "      <td>0.00</td>\n",
       "      <td>2</td>\n",
       "      <td>0</td>\n",
       "      <td>93826.63</td>\n",
       "      <td>0</td>\n",
       "    </tr>\n",
       "    <tr>\n",
       "      <th>4</th>\n",
       "      <td>850</td>\n",
       "      <td>43</td>\n",
       "      <td>125510.82</td>\n",
       "      <td>1</td>\n",
       "      <td>1</td>\n",
       "      <td>79084.10</td>\n",
       "      <td>0</td>\n",
       "    </tr>\n",
       "  </tbody>\n",
       "</table>\n",
       "</div>"
      ],
      "text/plain": [
       "   credit_score  age    balance  products_number  active_member  \\\n",
       "0           619   42       0.00                1              1   \n",
       "1           608   41   83807.86                1              1   \n",
       "2           502   42  159660.80                3              0   \n",
       "3           699   39       0.00                2              0   \n",
       "4           850   43  125510.82                1              1   \n",
       "\n",
       "   estimated_salary  churn  \n",
       "0         101348.88      1  \n",
       "1         112542.58      0  \n",
       "2         113931.57      1  \n",
       "3          93826.63      0  \n",
       "4          79084.10      0  "
      ]
     },
     "execution_count": 12,
     "metadata": {},
     "output_type": "execute_result"
    }
   ],
   "source": [
    "df = df.drop(['credit_card','tenure'], axis=1)\n",
    "df.head()"
   ]
  },
  {
   "cell_type": "code",
   "execution_count": 13,
   "metadata": {
    "colab": {
     "base_uri": "https://localhost:8080/"
    },
    "id": "4T_zF7qjt2B6",
    "outputId": "a7db54e6-7bd0-446b-be77-2d6628589307"
   },
   "outputs": [
    {
     "name": "stdout",
     "output_type": "stream",
     "text": [
      "credit_score and churn are dependent as p =0.006738213892205324\n",
      "age and churn are dependent as p =1.2399313093459443e-186\n",
      "balance and churn are dependent as p =1.2755633191546494e-32\n",
      "estimated_salary and churn are independent as p =0.22644042802263928\n"
     ]
    }
   ],
   "source": [
    "#performing anova test num vs cat cols for dependency check\n",
    "num_cols = [\"credit_score\",\"age\",\"balance\",\"estimated_salary\"]\n",
    "for i in num_cols:\n",
    "  # Performing two-way ANOVA\n",
    "    model = ols(i+' ~ churn', data = df).fit()\n",
    "    result = sm.stats.anova_lm(model, typ=2)\n",
    "    if(result['PR(>F)']['churn'] < 0.05):\n",
    "        print(i+\" and churn are dependent as p =\"+ str(result['PR(>F)']['churn']))\n",
    "    else:\n",
    "        print(i+\" and churn are independent as p =\"+ str(result['PR(>F)']['churn']))\n",
    "# estimated_salary is not dependent on churn hence  dropping it"
   ]
  },
  {
   "cell_type": "code",
   "execution_count": 14,
   "metadata": {
    "colab": {
     "base_uri": "https://localhost:8080/",
     "height": 206
    },
    "id": "0-fgbW1pxdYY",
    "outputId": "c4a37f04-dd10-41d8-d301-60bc7f46cc77"
   },
   "outputs": [
    {
     "data": {
      "text/html": [
       "<div>\n",
       "<style scoped>\n",
       "    .dataframe tbody tr th:only-of-type {\n",
       "        vertical-align: middle;\n",
       "    }\n",
       "\n",
       "    .dataframe tbody tr th {\n",
       "        vertical-align: top;\n",
       "    }\n",
       "\n",
       "    .dataframe thead th {\n",
       "        text-align: right;\n",
       "    }\n",
       "</style>\n",
       "<table border=\"1\" class=\"dataframe\">\n",
       "  <thead>\n",
       "    <tr style=\"text-align: right;\">\n",
       "      <th></th>\n",
       "      <th>credit_score</th>\n",
       "      <th>age</th>\n",
       "      <th>balance</th>\n",
       "      <th>products_number</th>\n",
       "      <th>active_member</th>\n",
       "      <th>churn</th>\n",
       "    </tr>\n",
       "  </thead>\n",
       "  <tbody>\n",
       "    <tr>\n",
       "      <th>0</th>\n",
       "      <td>619</td>\n",
       "      <td>42</td>\n",
       "      <td>0.00</td>\n",
       "      <td>1</td>\n",
       "      <td>1</td>\n",
       "      <td>1</td>\n",
       "    </tr>\n",
       "    <tr>\n",
       "      <th>1</th>\n",
       "      <td>608</td>\n",
       "      <td>41</td>\n",
       "      <td>83807.86</td>\n",
       "      <td>1</td>\n",
       "      <td>1</td>\n",
       "      <td>0</td>\n",
       "    </tr>\n",
       "    <tr>\n",
       "      <th>2</th>\n",
       "      <td>502</td>\n",
       "      <td>42</td>\n",
       "      <td>159660.80</td>\n",
       "      <td>3</td>\n",
       "      <td>0</td>\n",
       "      <td>1</td>\n",
       "    </tr>\n",
       "    <tr>\n",
       "      <th>3</th>\n",
       "      <td>699</td>\n",
       "      <td>39</td>\n",
       "      <td>0.00</td>\n",
       "      <td>2</td>\n",
       "      <td>0</td>\n",
       "      <td>0</td>\n",
       "    </tr>\n",
       "    <tr>\n",
       "      <th>4</th>\n",
       "      <td>850</td>\n",
       "      <td>43</td>\n",
       "      <td>125510.82</td>\n",
       "      <td>1</td>\n",
       "      <td>1</td>\n",
       "      <td>0</td>\n",
       "    </tr>\n",
       "  </tbody>\n",
       "</table>\n",
       "</div>"
      ],
      "text/plain": [
       "   credit_score  age    balance  products_number  active_member  churn\n",
       "0           619   42       0.00                1              1      1\n",
       "1           608   41   83807.86                1              1      0\n",
       "2           502   42  159660.80                3              0      1\n",
       "3           699   39       0.00                2              0      0\n",
       "4           850   43  125510.82                1              1      0"
      ]
     },
     "execution_count": 14,
     "metadata": {},
     "output_type": "execute_result"
    }
   ],
   "source": [
    "df = df.drop(['estimated_salary'], axis=1)\n",
    "df.head()"
   ]
  },
  {
   "cell_type": "code",
   "execution_count": 15,
   "metadata": {
    "id": "hjwZtsYkzlRE"
   },
   "outputs": [],
   "source": [
    "X = df[['credit_score','age','balance','products_number','active_member']]\n",
    "y= df['churn']"
   ]
  },
  {
   "cell_type": "code",
   "execution_count": 16,
   "metadata": {
    "id": "vJkPGTlkzc2p"
   },
   "outputs": [],
   "source": [
    "# using the train test split function\n",
    "X_train, X_test, y_train, y_test = train_test_split(X,y ,  random_state=104,  test_size=0.25, shuffle=True)"
   ]
  },
  {
   "cell_type": "code",
   "execution_count": 101,
   "metadata": {
    "colab": {
     "base_uri": "https://localhost:8080/"
    },
    "id": "ZAJg9jZI0nj6",
    "outputId": "43dca445-df0e-48f6-fb82-316f899691c7"
   },
   "outputs": [
    {
     "name": "stdout",
     "output_type": "stream",
     "text": [
      "(7500, 6)\n",
      "(7500, 1)\n",
      "(1, 6)\n"
     ]
    }
   ],
   "source": [
    "#Defining the X,w and y for tf malupulation\n",
    "y = tf.constant(y_train,dtype=tf.float32)\n",
    "y = tf.reshape(y, [y_train.shape[0],1])\n",
    "x = tf.constant(tf.concat([X_train, tf.ones([X_train.shape[0], 1], tf.float32)], 1))\n",
    "w = tf.Variable(tf.random.uniform(shape=[1,x.shape[1]], maxval=0, dtype=tf.float32, seed=431))\n",
    "print(x.shape)\n",
    "print(y.shape)\n",
    "print(w.shape)"
   ]
  },
  {
   "cell_type": "code",
   "execution_count": 102,
   "metadata": {
    "colab": {
     "base_uri": "https://localhost:8080/"
    },
    "id": "R4mAxpp40w2p",
    "outputId": "55b2f734-4c94-4b23-fe58-cff629da8dc7"
   },
   "outputs": [],
   "source": [
    "alpha =0.01\n",
    "opti= Adam(learning_rate=alpha)\n",
    "# opti = SGD(learning_rate= alpha)\n",
    "iter =100\n",
    "c=[]\n",
    "for i in range(iter):\n",
    "    with tf.GradientTape() as tape:\n",
    "\n",
    "        yhat = tf.math.sigmoid(tf.matmul(w,tf.transpose(x))) \n",
    "#         print(yhat)\n",
    "# Log (0) will give nan\n",
    "        yhat = tf.clip_by_value(yhat, 1e-9, 1.)\n",
    "#         print(yhat)\n",
    "        a = tf.reduce_sum(tf.multiply(y, tf.math.log(yhat)))\n",
    "\n",
    "        b = tf.reduce_sum(tf.multiply((1-y), tf.math.log(1-yhat)))\n",
    "        loss =  -(a+b)/y.shape[0]\n",
    "        \n",
    "    d = tf.reduce_sum(loss)/y.shape[0]\n",
    "    d = d.numpy()\n",
    "    c.append(d)\n",
    "    grad = tape.gradient(loss,[w])\n",
    "    opti.apply_gradients(zip(grad,[w])) # adam optimizer\n",
    "# print(c)"
   ]
  },
  {
   "cell_type": "code",
   "execution_count": 103,
   "metadata": {
    "colab": {
     "base_uri": "https://localhost:8080/",
     "height": 472
    },
    "id": "qyZVOLJ82CiN",
    "outputId": "18829e19-3d29-46be-fe03-f25c61c170ce"
   },
   "outputs": [
    {
     "data": {
      "image/png": "[encoded data removed]",
      "text/plain": [
       "<Figure size 432x288 with 1 Axes>"
      ]
     },
     "metadata": {
      "needs_background": "light"
     },
     "output_type": "display_data"
    }
   ],
   "source": [
    "# plotting the cost function for LR confermation\n",
    "l=np.arange(1,len(c)+1)\n",
    "plt.plot(l, c, label = \"line 2\")\n",
    "\n",
    "# naming the x axis\n",
    "plt.xlabel('iteration')\n",
    "# naming the y axis\n",
    "plt.ylabel('cost')\n",
    "# giving a title to my graph\n",
    "plt.title('Cost function Linear reggresion!')\n",
    "\n",
    "# show a legend on the plot\n",
    "plt.legend()\n",
    "\n",
    "# function to show the plot\n",
    "plt.show()"
   ]
  },
  {
   "cell_type": "code",
   "execution_count": 104,
   "metadata": {
    "colab": {
     "base_uri": "https://localhost:8080/"
    },
    "id": "k4jt0qzu3XoK",
    "outputId": "2a89ac2e-0cc4-4eb6-f990-a9448b33d495"
   },
   "outputs": [
    {
     "name": "stdout",
     "output_type": "stream",
     "text": [
      "[0.6931462, 3.2134383, 3.4524229, 3.5571752, 3.5740204, 3.5267935, 3.4299417, 3.2932558, 3.1248488, 2.9453154, 2.9453726, 3.218158, 3.1289015, 2.9083498, 2.920882, 3.0020938, 3.0566943, 3.07364, 3.054978, 3.006057, 2.938749, 2.8905962, 2.9375157, 3.0004573, 2.9457421, 2.890789, 2.9086566, 2.9411073, 2.9547312, 2.9438736, 2.9156773, 2.891365, 2.9022093, 2.9300098, 2.9166222, 2.8916602, 2.8954473, 2.9101005, 2.91496, 2.906131, 2.892879, 2.8917065, 2.9036524, 2.9039505, 2.8925412, 2.8908305, 2.8973393, 2.9002273, 2.8959105, 2.890369, 2.8916817, 2.8964765, 2.8945498, 2.8901722, 2.8910527, 2.8939283, 2.8936477, 2.8908281, 2.8900106, 2.8921614, 2.8925, 2.89039, 2.8900266, 2.8914058, 2.8916347, 2.8903685, 2.889868, 2.890818, 2.8910127, 2.8900611, 2.8899112, 2.8905578, 2.890573, 2.8899572, 2.889881, 2.8903418, 2.890255, 2.8898318, 2.8899214, 2.890194, 2.890046, 2.889795, 2.8899188, 2.890067, 2.889894, 2.8897877, 2.8899243, 2.8899565, 2.889816, 2.8897986, 2.8899016, 2.8898664, 2.889778, 2.8898184, 2.8898652, 2.8898065, 2.8897736, 2.8898222, 2.8898215, 2.8897731]\n"
     ]
    }
   ],
   "source": [
    "print(c)"
   ]
  },
  {
   "cell_type": "code",
   "execution_count": 105,
   "metadata": {
    "id": "OS3eiMYx7OKa"
   },
   "outputs": [],
   "source": [
    "xh = tf.constant(tf.concat([X_test, tf.ones([X_test.shape[0], 1], tf.float32)], 1))\n",
    "ypred = tf.math.sigmoid(tf.matmul(w,tf.transpose(xh)))"
   ]
  },
  {
   "cell_type": "code",
   "execution_count": 108,
   "metadata": {},
   "outputs": [],
   "source": [
    "ypred = tf.clip_by_value(ypred, 1e-9, 1.)"
   ]
  },
  {
   "cell_type": "code",
   "execution_count": 118,
   "metadata": {},
   "outputs": [],
   "source": [
    "ypredA = list(ypred.numpy())"
   ]
  },
  {
   "cell_type": "code",
   "execution_count": 125,
   "metadata": {},
   "outputs": [
    {
     "name": "stdout",
     "output_type": "stream",
     "text": [
      "[[9.999999717180685e-10, 9.999999717180685e-10, 9.999999717180685e-10, 0.2654229402542114, 9.999999717180685e-10, 9.999999717180685e-10, 0.2143162190914154, 9.999999717180685e-10, 9.999999717180685e-10, 0.20955778658390045, 9.999999717180685e-10, 9.999999717180685e-10, 9.999999717180685e-10, 9.999999717180685e-10, 9.999999717180685e-10, 0.21216648817062378, 9.999999717180685e-10, 9.999999717180685e-10, 9.999999717180685e-10, 9.999999717180685e-10, 0.20826655626296997, 9.999999717180685e-10, 9.999999717180685e-10, 0.18758083879947662, 0.16762889921665192, 0.17924055457115173, 9.999999717180685e-10, 9.999999717180685e-10, 9.999999717180685e-10, 9.999999717180685e-10, 0.16029930114746094, 9.999999717180685e-10, 9.999999717180685e-10, 0.22407370805740356, 9.999999717180685e-10, 9.999999717180685e-10, 0.17268867790699005, 0.19609898328781128, 0.15661096572875977, 0.21233084797859192, 9.999999717180685e-10, 9.999999717180685e-10, 0.18335627019405365, 9.999999717180685e-10, 9.999999717180685e-10, 9.999999717180685e-10, 9.999999717180685e-10, 9.999999717180685e-10, 9.999999717180685e-10, 9.999999717180685e-10, 9.999999717180685e-10, 0.2179257869720459, 0.19631412625312805, 9.999999717180685e-10, 9.999999717180685e-10, 9.999999717180685e-10, 0.19618959724903107, 0.15368056297302246, 9.999999717180685e-10, 9.999999717180685e-10, 9.999999717180685e-10, 0.21374203264713287, 9.999999717180685e-10, 9.999999717180685e-10, 9.999999717180685e-10, 9.999999717180685e-10, 9.999999717180685e-10, 9.999999717180685e-10, 9.999999717180685e-10, 9.999999717180685e-10, 9.999999717180685e-10, 0.20549124479293823, 9.999999717180685e-10, 9.999999717180685e-10, 0.21454596519470215, 9.999999717180685e-10, 9.999999717180685e-10, 0.2478000521659851, 9.999999717180685e-10, 9.999999717180685e-10, 9.999999717180685e-10, 0.19113557040691376, 9.999999717180685e-10, 0.1473522186279297, 9.999999717180685e-10, 9.999999717180685e-10, 0.23131321370601654, 9.999999717180685e-10, 9.999999717180685e-10, 9.999999717180685e-10, 9.999999717180685e-10, 9.999999717180685e-10, 0.1648973822593689, 9.999999717180685e-10, 9.999999717180685e-10, 0.21445851027965546, 9.999999717180685e-10, 0.1874820441007614, 9.999999717180685e-10, 9.999999717180685e-10, 9.999999717180685e-10, 0.24645647406578064, 9.999999717180685e-10, 9.999999717180685e-10, 9.999999717180685e-10, 9.999999717180685e-10, 0.18167348206043243, 0.21862955391407013, 0.21942974627017975, 0.22083869576454163, 0.15752984583377838, 0.21233633160591125, 0.17885351181030273, 0.2080562710762024, 9.999999717180685e-10, 9.999999717180685e-10, 0.19384251534938812, 9.999999717180685e-10, 9.999999717180685e-10, 9.999999717180685e-10, 9.999999717180685e-10, 9.999999717180685e-10, 9.999999717180685e-10, 9.999999717180685e-10, 0.18951693177223206, 0.1817726492881775, 0.2513757050037384, 9.999999717180685e-10, 9.999999717180685e-10, 9.999999717180685e-10, 0.15431047976016998, 0.27506643533706665, 0.2348073124885559, 0.22964726388454437, 0.2026953101158142, 9.999999717180685e-10, 9.999999717180685e-10, 9.999999717180685e-10, 9.999999717180685e-10, 9.999999717180685e-10, 0.2616192698478699, 9.999999717180685e-10, 9.999999717180685e-10, 0.2501368224620819, 9.999999717180685e-10, 9.999999717180685e-10, 0.18628615140914917, 0.198170468211174, 9.999999717180685e-10, 9.999999717180685e-10, 9.999999717180685e-10, 9.999999717180685e-10, 9.999999717180685e-10, 0.19134756922721863, 9.999999717180685e-10, 9.999999717180685e-10, 9.999999717180685e-10, 9.999999717180685e-10, 0.21487125754356384, 9.999999717180685e-10, 9.999999717180685e-10, 9.999999717180685e-10, 9.999999717180685e-10, 0.18672247231006622, 9.999999717180685e-10, 9.999999717180685e-10, 0.17989131808280945, 9.999999717180685e-10, 9.999999717180685e-10, 0.2085094302892685, 9.999999717180685e-10, 0.19568201899528503, 0.20364058017730713, 9.999999717180685e-10, 0.19899652898311615, 9.999999717180685e-10, 9.999999717180685e-10, 9.999999717180685e-10, 9.999999717180685e-10, 9.999999717180685e-10, 9.999999717180685e-10, 9.999999717180685e-10, 9.999999717180685e-10, 9.999999717180685e-10, 0.17577135562896729, 9.999999717180685e-10, 9.999999717180685e-10, 9.999999717180685e-10, 9.999999717180685e-10, 0.22220781445503235, 9.999999717180685e-10, 9.999999717180685e-10, 9.999999717180685e-10, 0.16969285905361176, 0.2045726180076599, 9.999999717180685e-10, 0.1727684736251831, 9.999999717180685e-10, 0.20076490938663483, 9.999999717180685e-10, 0.2326499968767166, 0.21864686906337738, 9.999999717180685e-10, 9.999999717180685e-10, 9.999999717180685e-10, 0.24113166332244873, 9.999999717180685e-10, 9.999999717180685e-10, 0.20402787625789642, 9.999999717180685e-10, 9.999999717180685e-10, 0.17525801062583923, 9.999999717180685e-10, 0.19604913890361786, 9.999999717180685e-10, 0.20897799730300903, 9.999999717180685e-10, 9.999999717180685e-10, 9.999999717180685e-10, 9.999999717180685e-10, 9.999999717180685e-10, 9.999999717180685e-10, 0.17243592441082, 0.2643749415874481, 9.999999717180685e-10, 0.23225267231464386, 0.2615029215812683, 0.2149733006954193, 0.16995055973529816, 0.2029251605272293, 9.999999717180685e-10, 0.22578787803649902, 9.999999717180685e-10, 9.999999717180685e-10, 9.999999717180685e-10, 9.999999717180685e-10, 0.19285272061824799, 0.25839680433273315, 0.23911410570144653, 9.999999717180685e-10, 9.999999717180685e-10, 0.21399037539958954, 9.999999717180685e-10, 9.999999717180685e-10, 9.999999717180685e-10, 0.17847351729869843, 9.999999717180685e-10, 9.999999717180685e-10, 0.22581762075424194, 0.21784429252147675, 9.999999717180685e-10, 0.2592115104198456, 9.999999717180685e-10, 0.2500797510147095, 9.999999717180685e-10, 9.999999717180685e-10, 9.999999717180685e-10, 0.2205767035484314, 9.999999717180685e-10, 9.999999717180685e-10, 9.999999717180685e-10, 9.999999717180685e-10, 0.21638275682926178, 0.2080322504043579, 9.999999717180685e-10, 9.999999717180685e-10, 9.999999717180685e-10, 0.19564202427864075, 0.25841498374938965, 0.19706304371356964, 9.999999717180685e-10, 0.22238028049468994, 0.1724342703819275, 0.1987590342760086, 0.16289262473583221, 0.16639204323291779, 0.23743562400341034, 9.999999717180685e-10, 9.999999717180685e-10, 0.21092157065868378, 9.999999717180685e-10, 9.999999717180685e-10, 0.2236679047346115, 0.19152945280075073, 9.999999717180685e-10, 9.999999717180685e-10, 9.999999717180685e-10, 0.22564007341861725, 9.999999717180685e-10, 0.21396583318710327, 9.999999717180685e-10, 9.999999717180685e-10, 0.16962692141532898, 9.999999717180685e-10, 0.1792704164981842, 0.1901242583990097, 0.19339069724082947, 9.999999717180685e-10, 0.24633386731147766, 0.2404468059539795, 9.999999717180685e-10, 9.999999717180685e-10, 9.999999717180685e-10, 0.18840250372886658, 9.999999717180685e-10, 9.999999717180685e-10, 9.999999717180685e-10, 0.21293328702449799, 9.999999717180685e-10, 9.999999717180685e-10, 9.999999717180685e-10, 9.999999717180685e-10, 9.999999717180685e-10, 9.999999717180685e-10, 9.999999717180685e-10, 9.999999717180685e-10, 9.999999717180685e-10, 0.2061147838830948, 9.999999717180685e-10, 9.999999717180685e-10, 9.999999717180685e-10, 9.999999717180685e-10, 9.999999717180685e-10, 9.999999717180685e-10, 9.999999717180685e-10, 9.999999717180685e-10, 9.999999717180685e-10, 9.999999717180685e-10, 9.999999717180685e-10, 0.2167617529630661, 0.2785119414329529, 9.999999717180685e-10, 0.21472568809986115, 9.999999717180685e-10, 9.999999717180685e-10, 0.221156507730484, 0.16794630885124207, 0.2435377985239029, 9.999999717180685e-10, 9.999999717180685e-10, 0.2420061081647873, 0.2296554148197174, 9.999999717180685e-10, 0.19490110874176025, 9.999999717180685e-10, 0.1567632406949997, 0.19063468277454376, 9.999999717180685e-10, 9.999999717180685e-10, 9.999999717180685e-10, 0.158673495054245, 0.18433043360710144, 0.23836663365364075, 0.17627952992916107, 9.999999717180685e-10, 0.17428147792816162, 9.999999717180685e-10, 9.999999717180685e-10, 0.2555356025695801, 0.2385774701833725, 9.999999717180685e-10, 9.999999717180685e-10, 0.19737368822097778, 9.999999717180685e-10, 9.999999717180685e-10, 0.17177033424377441, 9.999999717180685e-10, 9.999999717180685e-10, 9.999999717180685e-10, 9.999999717180685e-10, 9.999999717180685e-10, 0.1877899467945099, 9.999999717180685e-10, 0.19888144731521606, 9.999999717180685e-10, 9.999999717180685e-10, 9.999999717180685e-10, 9.999999717180685e-10, 0.22746989130973816, 9.999999717180685e-10, 0.2309715300798416, 9.999999717180685e-10, 0.19659389555454254, 9.999999717180685e-10, 9.999999717180685e-10, 0.21829143166542053, 9.999999717180685e-10, 9.999999717180685e-10, 0.2032785713672638, 0.2630046308040619, 9.999999717180685e-10, 9.999999717180685e-10, 9.999999717180685e-10, 9.999999717180685e-10, 0.20840783417224884, 0.22153283655643463, 9.999999717180685e-10, 9.999999717180685e-10, 9.999999717180685e-10, 9.999999717180685e-10, 9.999999717180685e-10, 9.999999717180685e-10, 0.2377759963274002, 9.999999717180685e-10, 9.999999717180685e-10, 0.22968317568302155, 0.21415184438228607, 9.999999717180685e-10, 0.170615091919899, 9.999999717180685e-10, 0.18811437487602234, 9.999999717180685e-10, 9.999999717180685e-10, 9.999999717180685e-10, 9.999999717180685e-10, 9.999999717180685e-10, 9.999999717180685e-10, 0.19086092710494995, 9.999999717180685e-10, 9.999999717180685e-10, 9.999999717180685e-10, 0.19576191902160645, 0.18868114054203033, 0.18926645815372467, 0.19927078485488892, 0.1888393759727478, 9.999999717180685e-10, 0.2195776253938675, 0.21672840416431427, 9.999999717180685e-10, 9.999999717180685e-10, 0.21998371183872223, 9.999999717180685e-10, 9.999999717180685e-10, 0.18259721994400024, 0.24993689358234406, 0.2252323180437088, 9.999999717180685e-10, 0.20593202114105225, 9.999999717180685e-10, 0.213846355676651, 9.999999717180685e-10, 9.999999717180685e-10, 9.999999717180685e-10, 0.16848786175251007, 9.999999717180685e-10, 0.17515362799167633, 9.999999717180685e-10, 0.2311318814754486, 0.21553157269954681, 9.999999717180685e-10, 9.999999717180685e-10, 9.999999717180685e-10, 9.999999717180685e-10, 9.999999717180685e-10, 9.999999717180685e-10, 9.999999717180685e-10, 9.999999717180685e-10, 9.999999717180685e-10, 9.999999717180685e-10, 9.999999717180685e-10, 9.999999717180685e-10, 0.17206016182899475, 9.999999717180685e-10, 9.999999717180685e-10, 9.999999717180685e-10, 9.999999717180685e-10, 0.2042599320411682, 9.999999717180685e-10, 9.999999717180685e-10, 0.2335779368877411, 0.21121293306350708, 0.13874106109142303, 9.999999717180685e-10, 9.999999717180685e-10, 0.15014973282814026, 9.999999717180685e-10, 9.999999717180685e-10, 0.19016405940055847, 0.19417712092399597, 0.2311609536409378, 0.25357145071029663, 9.999999717180685e-10, 0.2504587173461914, 9.999999717180685e-10, 9.999999717180685e-10, 9.999999717180685e-10, 0.1455063670873642, 9.999999717180685e-10, 0.18286094069480896, 0.17582286894321442, 9.999999717180685e-10, 9.999999717180685e-10, 9.999999717180685e-10, 9.999999717180685e-10, 0.20624768733978271, 9.999999717180685e-10, 9.999999717180685e-10, 9.999999717180685e-10, 0.21865475177764893, 9.999999717180685e-10, 0.2168232500553131, 9.999999717180685e-10, 9.999999717180685e-10, 0.22081370651721954, 9.999999717180685e-10, 0.17638379335403442, 0.2023109793663025, 9.999999717180685e-10, 0.23466959595680237, 9.999999717180685e-10, 9.999999717180685e-10, 9.999999717180685e-10, 9.999999717180685e-10, 9.999999717180685e-10, 9.999999717180685e-10, 0.19330540299415588, 9.999999717180685e-10, 9.999999717180685e-10, 9.999999717180685e-10, 0.19798675179481506, 0.18779239058494568, 9.999999717180685e-10, 0.2089928388595581, 0.22914457321166992, 0.2510903775691986, 0.15624700486660004, 0.1776236891746521, 9.999999717180685e-10, 9.999999717180685e-10, 0.21003560721874237, 0.19163845479488373, 9.999999717180685e-10, 9.999999717180685e-10, 9.999999717180685e-10, 0.18353019654750824, 9.999999717180685e-10, 0.2151038497686386, 9.999999717180685e-10, 9.999999717180685e-10, 9.999999717180685e-10, 9.999999717180685e-10, 9.999999717180685e-10, 0.20738880336284637, 9.999999717180685e-10, 9.999999717180685e-10, 9.999999717180685e-10, 9.999999717180685e-10, 0.1905328631401062, 9.999999717180685e-10, 9.999999717180685e-10, 9.999999717180685e-10, 0.2034594565629959, 9.999999717180685e-10, 9.999999717180685e-10, 9.999999717180685e-10, 0.17362576723098755, 0.18381015956401825, 9.999999717180685e-10, 9.999999717180685e-10, 0.1874820441007614, 9.999999717180685e-10, 9.999999717180685e-10, 0.1995960772037506, 0.2325613796710968, 0.18573269248008728, 9.999999717180685e-10, 0.18561752140522003, 9.999999717180685e-10, 0.21527227759361267, 9.999999717180685e-10, 0.21792776882648468, 9.999999717180685e-10, 9.999999717180685e-10, 0.2317809760570526, 9.999999717180685e-10, 9.999999717180685e-10, 9.999999717180685e-10, 0.21933293342590332, 0.17915676534175873, 9.999999717180685e-10, 0.21127863228321075, 9.999999717180685e-10, 9.999999717180685e-10, 0.23960280418395996, 9.999999717180685e-10, 0.22064976394176483, 0.18503978848457336, 9.999999717180685e-10, 9.999999717180685e-10, 0.21628914773464203, 9.999999717180685e-10, 9.999999717180685e-10, 0.1813785880804062, 9.999999717180685e-10, 9.999999717180685e-10, 9.999999717180685e-10, 9.999999717180685e-10, 9.999999717180685e-10, 0.166870579123497, 9.999999717180685e-10, 0.17589017748832703, 9.999999717180685e-10, 9.999999717180685e-10, 0.17892806231975555, 9.999999717180685e-10, 0.1978728473186493, 0.17063915729522705, 0.18936777114868164, 0.17351819574832916, 0.22464491426944733, 9.999999717180685e-10, 0.16292038559913635, 9.999999717180685e-10, 9.999999717180685e-10, 0.20410127937793732, 0.1816432774066925, 9.999999717180685e-10, 0.17494165897369385, 0.17796039581298828, 0.1692783236503601, 9.999999717180685e-10, 0.2017870545387268, 9.999999717180685e-10, 0.17644912004470825, 0.20056834816932678, 0.21790289878845215, 0.22379133105278015, 0.2103758007287979, 9.999999717180685e-10, 9.999999717180685e-10, 0.21592482924461365, 9.999999717180685e-10, 0.21817879378795624, 9.999999717180685e-10, 0.2405661791563034, 9.999999717180685e-10, 9.999999717180685e-10, 0.23793365061283112, 9.999999717180685e-10, 0.19659748673439026, 0.21737556159496307, 9.999999717180685e-10, 0.19189132750034332, 0.27095121145248413, 9.999999717180685e-10, 0.2592810392379761, 0.19308313727378845, 0.19802603125572205, 0.19876894354820251, 0.1977047622203827, 9.999999717180685e-10, 9.999999717180685e-10, 9.999999717180685e-10, 0.22264567017555237, 0.17963676154613495, 9.999999717180685e-10, 9.999999717180685e-10, 9.999999717180685e-10, 0.1968364417552948, 9.999999717180685e-10, 9.999999717180685e-10, 9.999999717180685e-10, 0.16668811440467834, 0.1827109456062317, 9.999999717180685e-10, 0.1752653867006302, 9.999999717180685e-10, 0.24999397993087769, 9.999999717180685e-10, 0.17460483312606812, 9.999999717180685e-10, 0.16565293073654175, 0.19616197049617767, 0.21770396828651428, 0.1812446266412735, 9.999999717180685e-10, 0.19673027098178864, 0.17887580394744873, 9.999999717180685e-10, 0.1804923713207245, 0.23737837374210358, 0.20401257276535034, 0.19433680176734924, 9.999999717180685e-10, 9.999999717180685e-10, 0.15624180436134338, 0.1588813066482544, 9.999999717180685e-10, 9.999999717180685e-10, 0.18202202022075653, 0.1611769199371338, 9.999999717180685e-10, 9.999999717180685e-10, 9.999999717180685e-10, 0.17374303936958313, 9.999999717180685e-10, 9.999999717180685e-10, 9.999999717180685e-10, 0.21273022890090942, 0.23548093438148499, 0.1793152242898941, 9.999999717180685e-10, 9.999999717180685e-10, 9.999999717180685e-10, 9.999999717180685e-10, 0.2291984111070633, 9.999999717180685e-10, 0.18661727011203766, 0.21285779774188995, 9.999999717180685e-10, 0.2465164214372635, 0.22754433751106262, 0.19566088914871216, 9.999999717180685e-10, 9.999999717180685e-10, 9.999999717180685e-10, 9.999999717180685e-10, 9.999999717180685e-10, 9.999999717180685e-10, 9.999999717180685e-10, 9.999999717180685e-10, 9.999999717180685e-10, 9.999999717180685e-10, 0.1962261199951172, 0.22689232230186462, 0.18873827159404755, 9.999999717180685e-10, 9.999999717180685e-10, 9.999999717180685e-10, 9.999999717180685e-10, 9.999999717180685e-10, 9.999999717180685e-10, 0.2500404119491577, 9.999999717180685e-10, 9.999999717180685e-10, 9.999999717180685e-10, 0.1882617473602295, 0.1971416473388672, 0.2741965055465698, 0.1891106367111206, 0.22886790335178375, 0.2739439904689789, 9.999999717180685e-10, 9.999999717180685e-10, 9.999999717180685e-10, 0.2209542989730835, 0.1955791711807251, 9.999999717180685e-10, 9.999999717180685e-10, 0.21392196416854858, 9.999999717180685e-10, 0.1582401543855667, 0.1928142011165619, 9.999999717180685e-10, 9.999999717180685e-10, 9.999999717180685e-10, 9.999999717180685e-10, 0.21378658711910248, 9.999999717180685e-10, 0.19689151644706726, 9.999999717180685e-10, 9.999999717180685e-10, 0.22927914559841156, 9.999999717180685e-10, 9.999999717180685e-10, 9.999999717180685e-10, 0.17433421313762665, 0.20128048956394196, 9.999999717180685e-10, 9.999999717180685e-10, 9.999999717180685e-10, 9.999999717180685e-10, 9.999999717180685e-10, 9.999999717180685e-10, 9.999999717180685e-10, 0.2148105651140213, 9.999999717180685e-10, 9.999999717180685e-10, 9.999999717180685e-10, 9.999999717180685e-10, 0.183226078748703, 9.999999717180685e-10, 9.999999717180685e-10, 9.999999717180685e-10, 9.999999717180685e-10, 9.999999717180685e-10, 9.999999717180685e-10, 0.21548119187355042, 9.999999717180685e-10, 9.999999717180685e-10, 0.18637850880622864, 0.23098836839199066, 0.21215146780014038, 0.2720494866371155, 9.999999717180685e-10, 0.2500987648963928, 9.999999717180685e-10, 9.999999717180685e-10, 0.15333396196365356, 0.1829688549041748, 0.1935739666223526, 9.999999717180685e-10, 0.2172449231147766, 9.999999717180685e-10, 9.999999717180685e-10, 0.18036475777626038, 9.999999717180685e-10, 9.999999717180685e-10, 9.999999717180685e-10, 9.999999717180685e-10, 9.999999717180685e-10, 9.999999717180685e-10, 9.999999717180685e-10, 9.999999717180685e-10, 9.999999717180685e-10, 9.999999717180685e-10, 0.16250625252723694, 9.999999717180685e-10, 9.999999717180685e-10, 0.20941410958766937, 0.19187556207180023, 9.999999717180685e-10, 9.999999717180685e-10, 9.999999717180685e-10, 9.999999717180685e-10, 9.999999717180685e-10, 0.17221148312091827, 0.22378140687942505, 9.999999717180685e-10, 9.999999717180685e-10, 9.999999717180685e-10, 0.2061551809310913, 9.999999717180685e-10, 9.999999717180685e-10, 9.999999717180685e-10, 0.17841292917728424, 0.2613754868507385, 9.999999717180685e-10, 0.1660754531621933, 0.18125112354755402, 9.999999717180685e-10, 9.999999717180685e-10, 0.1910032033920288, 9.999999717180685e-10, 0.1749303936958313, 0.19197510182857513, 9.999999717180685e-10, 0.20058122277259827, 9.999999717180685e-10, 0.2243817001581192, 9.999999717180685e-10, 9.999999717180685e-10, 0.2034677267074585, 9.999999717180685e-10, 9.999999717180685e-10, 9.999999717180685e-10, 9.999999717180685e-10, 9.999999717180685e-10, 9.999999717180685e-10, 0.15671099722385406, 9.999999717180685e-10, 0.1660245954990387, 9.999999717180685e-10, 0.18904170393943787, 9.999999717180685e-10, 9.999999717180685e-10, 9.999999717180685e-10, 9.999999717180685e-10, 9.999999717180685e-10, 9.999999717180685e-10, 9.999999717180685e-10, 9.999999717180685e-10, 9.999999717180685e-10, 0.16702595353126526, 0.21009765565395355, 0.2408982664346695, 0.2098943591117859, 0.19144192337989807, 9.999999717180685e-10, 9.999999717180685e-10, 0.17731402814388275, 0.23026560246944427, 0.21604712307453156, 9.999999717180685e-10, 9.999999717180685e-10, 9.999999717180685e-10, 0.20878614485263824, 9.999999717180685e-10, 9.999999717180685e-10, 9.999999717180685e-10, 9.999999717180685e-10, 9.999999717180685e-10, 9.999999717180685e-10, 0.1914576292037964, 9.999999717180685e-10, 0.24547837674617767, 0.14548885822296143, 0.2324066162109375, 9.999999717180685e-10, 0.1686081886291504, 9.999999717180685e-10, 0.22579987347126007, 9.999999717180685e-10, 9.999999717180685e-10, 9.999999717180685e-10, 0.1707228720188141, 9.999999717180685e-10, 9.999999717180685e-10, 0.25196242332458496, 9.999999717180685e-10, 9.999999717180685e-10, 9.999999717180685e-10, 0.18327856063842773, 9.999999717180685e-10, 9.999999717180685e-10, 9.999999717180685e-10, 9.999999717180685e-10, 0.17730498313903809, 9.999999717180685e-10, 0.18229158222675323, 0.16971434652805328, 0.18850411474704742, 9.999999717180685e-10, 9.999999717180685e-10, 9.999999717180685e-10, 0.21756373345851898, 9.999999717180685e-10, 9.999999717180685e-10, 9.999999717180685e-10, 9.999999717180685e-10, 9.999999717180685e-10, 9.999999717180685e-10, 0.24114301800727844, 9.999999717180685e-10, 0.23565596342086792, 9.999999717180685e-10, 0.1756180077791214, 0.17571350932121277, 9.999999717180685e-10, 9.999999717180685e-10, 9.999999717180685e-10, 9.999999717180685e-10, 9.999999717180685e-10, 0.2710438370704651, 9.999999717180685e-10, 0.24073444306850433, 9.999999717180685e-10, 9.999999717180685e-10, 9.999999717180685e-10, 9.999999717180685e-10, 9.999999717180685e-10, 9.999999717180685e-10, 9.999999717180685e-10, 0.2523241341114044, 0.19682836532592773, 9.999999717180685e-10, 9.999999717180685e-10, 9.999999717180685e-10, 0.1942167580127716, 9.999999717180685e-10, 9.999999717180685e-10, 0.2277841567993164, 9.999999717180685e-10, 0.2352525144815445, 9.999999717180685e-10, 9.999999717180685e-10, 9.999999717180685e-10, 9.999999717180685e-10, 9.999999717180685e-10, 0.22447893023490906, 9.999999717180685e-10, 9.999999717180685e-10, 9.999999717180685e-10, 0.20281842350959778, 9.999999717180685e-10, 9.999999717180685e-10, 0.21507622301578522, 0.22203116118907928, 9.999999717180685e-10, 0.18170465528964996, 0.2096652239561081, 9.999999717180685e-10, 9.999999717180685e-10, 9.999999717180685e-10, 9.999999717180685e-10, 0.18688717484474182, 0.19749543070793152, 0.1923789083957672, 0.17364032566547394, 0.21715974807739258, 9.999999717180685e-10, 9.999999717180685e-10, 9.999999717180685e-10, 9.999999717180685e-10, 0.227176696062088, 9.999999717180685e-10, 9.999999717180685e-10, 9.999999717180685e-10, 9.999999717180685e-10, 0.14070400595664978, 9.999999717180685e-10, 0.2811584770679474, 9.999999717180685e-10, 0.16736628115177155, 9.999999717180685e-10, 0.1749473512172699, 0.19139467179775238, 0.19906754791736603, 9.999999717180685e-10, 0.15335212647914886, 0.1979544758796692, 9.999999717180685e-10, 0.16825257241725922, 9.999999717180685e-10, 9.999999717180685e-10, 9.999999717180685e-10, 9.999999717180685e-10, 9.999999717180685e-10, 0.22747181355953217, 9.999999717180685e-10, 0.2075744867324829, 9.999999717180685e-10, 9.999999717180685e-10, 9.999999717180685e-10, 9.999999717180685e-10, 9.999999717180685e-10, 9.999999717180685e-10, 0.21113482117652893, 9.999999717180685e-10, 0.18581606447696686, 9.999999717180685e-10, 9.999999717180685e-10, 0.20951567590236664, 9.999999717180685e-10, 9.999999717180685e-10, 9.999999717180685e-10, 9.999999717180685e-10, 9.999999717180685e-10, 9.999999717180685e-10, 9.999999717180685e-10, 0.200666144490242, 0.19809786975383759, 9.999999717180685e-10, 9.999999717180685e-10, 0.19551530480384827, 9.999999717180685e-10, 0.2426421344280243, 9.999999717180685e-10, 0.210325226187706, 9.999999717180685e-10, 9.999999717180685e-10, 0.21228833496570587, 9.999999717180685e-10, 9.999999717180685e-10, 0.23683059215545654, 0.18103373050689697, 9.999999717180685e-10, 9.999999717180685e-10, 0.19869615137577057, 9.999999717180685e-10, 9.999999717180685e-10, 9.999999717180685e-10, 0.20276091992855072, 0.19626422226428986, 0.2443055659532547, 9.999999717180685e-10, 9.999999717180685e-10, 9.999999717180685e-10, 0.1981641799211502, 9.999999717180685e-10, 9.999999717180685e-10, 9.999999717180685e-10, 9.999999717180685e-10, 0.19241048395633698, 9.999999717180685e-10, 9.999999717180685e-10, 0.2191448211669922, 0.20996823906898499, 9.999999717180685e-10, 0.1550731360912323, 0.2023109793663025, 9.999999717180685e-10, 0.24569684267044067, 9.999999717180685e-10, 9.999999717180685e-10, 9.999999717180685e-10, 0.19090910255908966, 0.2461758404970169, 9.999999717180685e-10, 0.2524760961532593, 9.999999717180685e-10, 0.22174307703971863, 9.999999717180685e-10, 9.999999717180685e-10, 0.18394066393375397, 0.23410679399967194, 0.20602227747440338, 9.999999717180685e-10, 9.999999717180685e-10, 9.999999717180685e-10, 0.2514704167842865, 0.1724342703819275, 9.999999717180685e-10, 9.999999717180685e-10, 0.19255360960960388, 0.14520131051540375, 9.999999717180685e-10, 9.999999717180685e-10, 9.999999717180685e-10, 9.999999717180685e-10, 9.999999717180685e-10, 0.18020610511302948, 0.17296446859836578, 9.999999717180685e-10, 0.19457462430000305, 9.999999717180685e-10, 0.23241649568080902, 0.17519202828407288, 9.999999717180685e-10, 0.18178783357143402, 0.20264717936515808, 0.2025897055864334, 0.13675101101398468, 0.18481117486953735, 0.2003241926431656, 9.999999717180685e-10, 9.999999717180685e-10, 9.999999717180685e-10, 0.21155914664268494, 9.999999717180685e-10, 0.19587495923042297, 9.999999717180685e-10, 9.999999717180685e-10, 9.999999717180685e-10, 0.2334882915019989, 9.999999717180685e-10, 9.999999717180685e-10, 0.18505775928497314, 0.22008270025253296, 0.18878388404846191, 0.226450577378273, 9.999999717180685e-10, 0.19580984115600586, 0.2295496165752411, 9.999999717180685e-10, 9.999999717180685e-10, 0.20497776567935944, 0.17658935487270355, 9.999999717180685e-10, 0.2312963455915451, 0.19300292432308197, 0.21441763639450073, 0.2613754868507385, 9.999999717180685e-10, 0.18678690493106842, 0.1802886575460434, 0.17900264263153076, 9.999999717180685e-10, 9.999999717180685e-10, 9.999999717180685e-10, 9.999999717180685e-10, 9.999999717180685e-10, 9.999999717180685e-10, 9.999999717180685e-10, 9.999999717180685e-10, 0.22278636693954468, 0.20770516991615295, 0.21175286173820496, 9.999999717180685e-10, 0.13263249397277832, 9.999999717180685e-10, 9.999999717180685e-10, 9.999999717180685e-10, 0.20876826345920563, 9.999999717180685e-10, 9.999999717180685e-10, 9.999999717180685e-10, 0.16608700156211853, 9.999999717180685e-10, 9.999999717180685e-10, 0.23101341724395752, 9.999999717180685e-10, 0.24313698709011078, 9.999999717180685e-10, 9.999999717180685e-10, 0.169606015086174, 9.999999717180685e-10, 9.999999717180685e-10, 9.999999717180685e-10, 9.999999717180685e-10, 9.999999717180685e-10, 9.999999717180685e-10, 0.2569386959075928, 0.1568092703819275, 9.999999717180685e-10, 9.999999717180685e-10, 0.20733767747879028, 0.27515390515327454, 0.2601800262928009, 0.1790090799331665, 9.999999717180685e-10, 0.22006526589393616, 9.999999717180685e-10, 0.19971147179603577, 9.999999717180685e-10, 9.999999717180685e-10, 0.22564786672592163, 0.16959267854690552, 0.20807218551635742, 9.999999717180685e-10, 0.2122768759727478, 9.999999717180685e-10, 9.999999717180685e-10, 0.18799909949302673, 9.999999717180685e-10, 9.999999717180685e-10, 9.999999717180685e-10, 0.18018464744091034, 9.999999717180685e-10, 9.999999717180685e-10, 9.999999717180685e-10, 0.23335982859134674, 0.19569902122020721, 9.999999717180685e-10, 9.999999717180685e-10, 0.156394362449646, 9.999999717180685e-10, 9.999999717180685e-10, 9.999999717180685e-10, 9.999999717180685e-10, 9.999999717180685e-10, 9.999999717180685e-10, 9.999999717180685e-10, 9.999999717180685e-10, 9.999999717180685e-10, 0.17308181524276733, 9.999999717180685e-10, 9.999999717180685e-10, 0.24688106775283813, 9.999999717180685e-10, 0.17924153804779053, 9.999999717180685e-10, 9.999999717180685e-10, 0.2063399851322174, 0.17928536236286163, 9.999999717180685e-10, 9.999999717180685e-10, 9.999999717180685e-10, 0.21219199895858765, 9.999999717180685e-10, 9.999999717180685e-10, 9.999999717180685e-10, 9.999999717180685e-10, 9.999999717180685e-10, 9.999999717180685e-10, 9.999999717180685e-10, 0.21653024852275848, 9.999999717180685e-10, 9.999999717180685e-10, 9.999999717180685e-10, 9.999999717180685e-10, 9.999999717180685e-10, 9.999999717180685e-10, 9.999999717180685e-10, 0.23063676059246063, 9.999999717180685e-10, 0.2038951963186264, 0.1734807938337326, 9.999999717180685e-10, 9.999999717180685e-10, 9.999999717180685e-10, 0.24064970016479492, 9.999999717180685e-10, 9.999999717180685e-10, 9.999999717180685e-10, 9.999999717180685e-10, 0.19908559322357178, 9.999999717180685e-10, 9.999999717180685e-10, 9.999999717180685e-10, 9.999999717180685e-10, 9.999999717180685e-10, 9.999999717180685e-10, 0.19982224702835083, 9.999999717180685e-10, 0.1956910938024521, 9.999999717180685e-10, 0.21496550738811493, 9.999999717180685e-10, 9.999999717180685e-10, 9.999999717180685e-10, 9.999999717180685e-10, 9.999999717180685e-10, 9.999999717180685e-10, 9.999999717180685e-10, 9.999999717180685e-10, 9.999999717180685e-10, 0.1710841804742813, 9.999999717180685e-10, 9.999999717180685e-10, 9.999999717180685e-10, 9.999999717180685e-10, 9.999999717180685e-10, 9.999999717180685e-10, 0.209676593542099, 0.2066042721271515, 9.999999717180685e-10, 9.999999717180685e-10, 0.19907742738723755, 0.20085348188877106, 0.19819538295269012, 9.999999717180685e-10, 9.999999717180685e-10, 9.999999717180685e-10, 9.999999717180685e-10, 0.2148970067501068, 0.21074722707271576, 9.999999717180685e-10, 9.999999717180685e-10, 0.18481017649173737, 9.999999717180685e-10, 0.1706320196390152, 0.20917218923568726, 9.999999717180685e-10, 9.999999717180685e-10, 9.999999717180685e-10, 0.2742738127708435, 0.21446892619132996, 9.999999717180685e-10, 9.999999717180685e-10, 9.999999717180685e-10, 0.19333525002002716, 9.999999717180685e-10, 0.17813704907894135, 9.999999717180685e-10, 9.999999717180685e-10, 0.2078620344400406, 0.2047390192747116, 9.999999717180685e-10, 9.999999717180685e-10, 9.999999717180685e-10, 9.999999717180685e-10, 9.999999717180685e-10, 9.999999717180685e-10, 0.19029805064201355, 9.999999717180685e-10, 0.23771989345550537, 9.999999717180685e-10, 9.999999717180685e-10, 9.999999717180685e-10, 9.999999717180685e-10, 9.999999717180685e-10, 0.16130581498146057, 9.999999717180685e-10, 9.999999717180685e-10, 9.999999717180685e-10, 0.20238368213176727, 9.999999717180685e-10, 0.23027780652046204, 9.999999717180685e-10, 9.999999717180685e-10, 9.999999717180685e-10, 9.999999717180685e-10, 9.999999717180685e-10, 9.999999717180685e-10, 0.2145128697156906, 9.999999717180685e-10, 9.999999717180685e-10, 9.999999717180685e-10, 9.999999717180685e-10, 9.999999717180685e-10, 9.999999717180685e-10, 9.999999717180685e-10, 9.999999717180685e-10, 0.20682187378406525, 0.14705117046833038, 9.999999717180685e-10, 9.999999717180685e-10, 0.2647516131401062, 9.999999717180685e-10, 0.19947965443134308, 9.999999717180685e-10, 0.15956348180770874, 9.999999717180685e-10, 9.999999717180685e-10, 0.23089942336082458, 0.16127310693264008, 9.999999717180685e-10, 9.999999717180685e-10, 0.27203720808029175, 9.999999717180685e-10, 9.999999717180685e-10, 9.999999717180685e-10, 0.21961238980293274, 0.2162516564130783, 0.19342343509197235, 9.999999717180685e-10, 0.19789524376392365, 9.999999717180685e-10, 9.999999717180685e-10, 9.999999717180685e-10, 0.18606136739253998, 0.17774982750415802, 0.22638624906539917, 9.999999717180685e-10, 0.2247796207666397, 0.193016916513443, 9.999999717180685e-10, 9.999999717180685e-10, 0.1748986542224884, 9.999999717180685e-10, 0.17416715621948242, 0.18054388463497162, 0.16315677762031555, 9.999999717180685e-10, 0.21166075766086578, 0.17965754866600037, 9.999999717180685e-10, 9.999999717180685e-10, 9.999999717180685e-10, 0.19026508927345276, 9.999999717180685e-10, 0.20123152434825897, 9.999999717180685e-10, 0.17753644287586212, 0.1668408066034317, 0.23215189576148987, 9.999999717180685e-10, 9.999999717180685e-10, 0.21207505464553833, 9.999999717180685e-10, 9.999999717180685e-10, 0.2295137196779251, 9.999999717180685e-10, 9.999999717180685e-10, 9.999999717180685e-10, 9.999999717180685e-10, 9.999999717180685e-10, 0.22143450379371643, 9.999999717180685e-10, 0.2110314667224884, 9.999999717180685e-10, 9.999999717180685e-10, 0.25916624069213867, 9.999999717180685e-10, 9.999999717180685e-10, 9.999999717180685e-10, 9.999999717180685e-10, 9.999999717180685e-10, 0.2155143767595291, 9.999999717180685e-10, 9.999999717180685e-10, 9.999999717180685e-10, 9.999999717180685e-10, 9.999999717180685e-10, 0.21418489515781403, 9.999999717180685e-10, 9.999999717180685e-10, 9.999999717180685e-10, 9.999999717180685e-10, 9.999999717180685e-10, 9.999999717180685e-10, 9.999999717180685e-10, 0.16839221119880676, 9.999999717180685e-10, 9.999999717180685e-10, 0.17733629047870636, 0.20986178517341614, 9.999999717180685e-10, 9.999999717180685e-10, 9.999999717180685e-10, 0.18248258531093597, 9.999999717180685e-10, 0.20973551273345947, 0.17391009628772736, 0.1836453527212143, 9.999999717180685e-10, 0.2101987600326538, 0.1819271296262741, 0.20926347374916077, 0.17787699401378632, 0.20191505551338196, 9.999999717180685e-10, 9.999999717180685e-10, 0.22850070893764496, 9.999999717180685e-10, 9.999999717180685e-10, 9.999999717180685e-10, 0.22093483805656433, 9.999999717180685e-10, 9.999999717180685e-10, 9.999999717180685e-10, 9.999999717180685e-10, 9.999999717180685e-10, 0.22431983053684235, 9.999999717180685e-10, 9.999999717180685e-10, 9.999999717180685e-10, 9.999999717180685e-10, 9.999999717180685e-10, 9.999999717180685e-10, 9.999999717180685e-10, 0.19697986543178558, 9.999999717180685e-10, 0.19255360960960388, 9.999999717180685e-10, 9.999999717180685e-10, 9.999999717180685e-10, 9.999999717180685e-10, 9.999999717180685e-10, 9.999999717180685e-10, 0.252926766872406, 9.999999717180685e-10, 9.999999717180685e-10, 0.22902801632881165, 0.2272232323884964, 9.999999717180685e-10, 0.16129958629608154, 0.2003016322851181, 9.999999717180685e-10, 9.999999717180685e-10, 9.999999717180685e-10, 0.23893652856349945, 9.999999717180685e-10, 9.999999717180685e-10, 9.999999717180685e-10, 0.1516590416431427, 9.999999717180685e-10, 9.999999717180685e-10, 9.999999717180685e-10, 9.999999717180685e-10, 0.17094840109348297, 0.2060796469449997, 9.999999717180685e-10, 9.999999717180685e-10, 0.27802103757858276, 9.999999717180685e-10, 9.999999717180685e-10, 0.18739695847034454, 9.999999717180685e-10, 9.999999717180685e-10, 9.999999717180685e-10, 9.999999717180685e-10, 0.168494313955307, 9.999999717180685e-10, 0.17714379727840424, 0.17013417184352875, 0.18662503361701965, 9.999999717180685e-10, 9.999999717180685e-10, 9.999999717180685e-10, 9.999999717180685e-10, 9.999999717180685e-10, 9.999999717180685e-10, 0.19022658467292786, 0.18299822509288788, 0.14312995970249176, 0.19450993835926056, 9.999999717180685e-10, 0.13838350772857666, 0.17618940770626068, 9.999999717180685e-10, 9.999999717180685e-10, 0.23079901933670044, 9.999999717180685e-10, 9.999999717180685e-10, 9.999999717180685e-10, 9.999999717180685e-10, 9.999999717180685e-10, 0.1822640597820282, 9.999999717180685e-10, 0.20919634401798248, 9.999999717180685e-10, 9.999999717180685e-10, 0.2225063294172287, 0.23375187814235687, 9.999999717180685e-10, 0.20801442861557007, 9.999999717180685e-10, 9.999999717180685e-10, 0.191238671541214, 9.999999717180685e-10, 9.999999717180685e-10, 9.999999717180685e-10, 9.999999717180685e-10, 9.999999717180685e-10, 0.18119025230407715, 0.19306719303131104, 0.23161251842975616, 9.999999717180685e-10, 0.16130581498146057, 0.2054094672203064, 0.18373677134513855, 9.999999717180685e-10, 9.999999717180685e-10, 0.2017696499824524, 9.999999717180685e-10, 9.999999717180685e-10, 0.20346879959106445, 9.999999717180685e-10, 9.999999717180685e-10, 9.999999717180685e-10, 9.999999717180685e-10, 9.999999717180685e-10, 9.999999717180685e-10, 0.23816265165805817, 9.999999717180685e-10, 9.999999717180685e-10, 0.2042817622423172, 9.999999717180685e-10, 9.999999717180685e-10, 9.999999717180685e-10, 9.999999717180685e-10, 9.999999717180685e-10, 0.2008238434791565, 9.999999717180685e-10, 9.999999717180685e-10, 0.1542096734046936, 0.18426942825317383, 9.999999717180685e-10, 0.2157377153635025, 0.16315677762031555, 9.999999717180685e-10, 9.999999717180685e-10, 9.999999717180685e-10, 9.999999717180685e-10, 0.20768943428993225, 0.174383744597435, 9.999999717180685e-10, 9.999999717180685e-10, 0.22815187275409698, 9.999999717180685e-10, 0.19525079429149628, 9.999999717180685e-10, 9.999999717180685e-10, 9.999999717180685e-10, 0.24112321436405182, 9.999999717180685e-10, 9.999999717180685e-10, 9.999999717180685e-10, 0.20265422761440277, 9.999999717180685e-10, 9.999999717180685e-10, 9.999999717180685e-10, 9.999999717180685e-10, 0.18059752881526947, 9.999999717180685e-10, 9.999999717180685e-10, 0.1790911853313446, 9.999999717180685e-10, 0.18024463951587677, 9.999999717180685e-10, 9.999999717180685e-10, 9.999999717180685e-10, 9.999999717180685e-10, 9.999999717180685e-10, 9.999999717180685e-10, 9.999999717180685e-10, 9.999999717180685e-10, 9.999999717180685e-10, 0.25284039974212646, 9.999999717180685e-10, 0.22206737101078033, 9.999999717180685e-10, 9.999999717180685e-10, 9.999999717180685e-10, 0.26526594161987305, 9.999999717180685e-10, 9.999999717180685e-10, 9.999999717180685e-10, 9.999999717180685e-10, 9.999999717180685e-10, 9.999999717180685e-10, 9.999999717180685e-10, 9.999999717180685e-10, 9.999999717180685e-10, 0.18208149075508118, 9.999999717180685e-10, 9.999999717180685e-10, 0.15501180291175842, 9.999999717180685e-10, 0.17703278362751007, 9.999999717180685e-10, 0.17599955201148987, 9.999999717180685e-10, 9.999999717180685e-10, 0.21415382623672485, 0.253379225730896, 9.999999717180685e-10, 9.999999717180685e-10, 9.999999717180685e-10, 9.999999717180685e-10, 9.999999717180685e-10, 9.999999717180685e-10, 9.999999717180685e-10, 0.16912741959095, 0.20738770067691803, 0.19028136134147644, 9.999999717180685e-10, 9.999999717180685e-10, 9.999999717180685e-10, 9.999999717180685e-10, 9.999999717180685e-10, 9.999999717180685e-10, 9.999999717180685e-10, 0.17714379727840424, 0.19193749129772186, 0.24704499542713165, 9.999999717180685e-10, 9.999999717180685e-10, 9.999999717180685e-10, 0.23568545281887054, 9.999999717180685e-10, 0.23897220194339752, 0.1985275149345398, 0.20838375389575958, 9.999999717180685e-10, 9.999999717180685e-10, 9.999999717180685e-10, 0.24506565928459167, 9.999999717180685e-10, 0.27515527606010437, 9.999999717180685e-10, 0.19510717689990997, 9.999999717180685e-10, 9.999999717180685e-10, 9.999999717180685e-10, 0.14611200988292694, 9.999999717180685e-10, 0.21354658901691437, 0.17098180949687958, 9.999999717180685e-10, 9.999999717180685e-10, 9.999999717180685e-10, 9.999999717180685e-10, 0.19525985419750214, 9.999999717180685e-10, 9.999999717180685e-10, 9.999999717180685e-10, 9.999999717180685e-10, 0.1890484094619751, 9.999999717180685e-10, 9.999999717180685e-10, 9.999999717180685e-10, 9.999999717180685e-10, 9.999999717180685e-10, 9.999999717180685e-10, 0.24724210798740387, 0.23916831612586975, 9.999999717180685e-10, 9.999999717180685e-10, 9.999999717180685e-10, 0.17385081946849823, 0.21414408087730408, 0.18922680616378784, 9.999999717180685e-10, 9.999999717180685e-10, 9.999999717180685e-10, 9.999999717180685e-10, 0.1854092925786972, 0.2154640555381775, 0.20751294493675232, 9.999999717180685e-10, 9.999999717180685e-10, 0.20364058017730713, 9.999999717180685e-10, 9.999999717180685e-10, 9.999999717180685e-10, 9.999999717180685e-10, 0.19066332280635834, 0.2101481854915619, 0.22195902466773987, 9.999999717180685e-10, 9.999999717180685e-10, 0.1829688549041748, 9.999999717180685e-10, 9.999999717180685e-10, 0.20091164112091064, 9.999999717180685e-10, 9.999999717180685e-10, 9.999999717180685e-10, 9.999999717180685e-10, 9.999999717180685e-10, 9.999999717180685e-10, 9.999999717180685e-10, 9.999999717180685e-10, 9.999999717180685e-10, 9.999999717180685e-10, 9.999999717180685e-10, 0.16731418669223785, 9.999999717180685e-10, 0.16496635973453522, 9.999999717180685e-10, 0.2492806613445282, 0.2353198081254959, 0.16448378562927246, 9.999999717180685e-10, 9.999999717180685e-10, 9.999999717180685e-10, 9.999999717180685e-10, 0.23581936955451965, 0.17839902639389038, 9.999999717180685e-10, 0.18490472435951233, 9.999999717180685e-10, 0.20374885201454163, 0.21932344138622284, 0.20146016776561737, 9.999999717180685e-10, 9.999999717180685e-10, 0.1548730731010437, 9.999999717180685e-10, 9.999999717180685e-10, 0.1912062168121338, 0.21401594579219818, 9.999999717180685e-10, 9.999999717180685e-10, 0.23728983104228973, 0.156831756234169, 9.999999717180685e-10, 0.1940789818763733, 9.999999717180685e-10, 9.999999717180685e-10, 9.999999717180685e-10, 9.999999717180685e-10, 0.24150347709655762, 0.16545753180980682, 9.999999717180685e-10, 9.999999717180685e-10, 0.20416617393493652, 9.999999717180685e-10, 9.999999717180685e-10, 9.999999717180685e-10, 9.999999717180685e-10, 0.1639268547296524, 9.999999717180685e-10, 9.999999717180685e-10, 0.2151038497686386, 9.999999717180685e-10, 0.17211730778217316, 9.999999717180685e-10, 9.999999717180685e-10, 9.999999717180685e-10, 9.999999717180685e-10, 9.999999717180685e-10, 9.999999717180685e-10, 0.20581476390361786, 9.999999717180685e-10, 9.999999717180685e-10, 9.999999717180685e-10, 9.999999717180685e-10, 9.999999717180685e-10, 9.999999717180685e-10, 9.999999717180685e-10, 0.19337411224842072, 0.23076210916042328, 9.999999717180685e-10, 9.999999717180685e-10, 0.1668151617050171, 9.999999717180685e-10, 9.999999717180685e-10, 9.999999717180685e-10, 9.999999717180685e-10, 0.21880227327346802, 9.999999717180685e-10, 9.999999717180685e-10, 9.999999717180685e-10, 0.19498875737190247, 9.999999717180685e-10, 9.999999717180685e-10, 0.17354728281497955, 9.999999717180685e-10, 9.999999717180685e-10, 0.18789130449295044, 0.19888316094875336, 9.999999717180685e-10, 0.1896495372056961, 0.18055245280265808, 9.999999717180685e-10, 0.1633014976978302, 0.25559353828430176, 0.19808357954025269, 9.999999717180685e-10, 9.999999717180685e-10, 9.999999717180685e-10, 9.999999717180685e-10, 9.999999717180685e-10, 9.999999717180685e-10, 9.999999717180685e-10, 0.18495656549930573, 9.999999717180685e-10, 0.1829233467578888, 9.999999717180685e-10, 9.999999717180685e-10, 9.999999717180685e-10, 0.2360868901014328, 9.999999717180685e-10, 9.999999717180685e-10, 9.999999717180685e-10, 9.999999717180685e-10, 9.999999717180685e-10, 9.999999717180685e-10, 0.16185089945793152, 9.999999717180685e-10, 9.999999717180685e-10, 0.220535010099411, 9.999999717180685e-10, 0.19767777621746063, 9.999999717180685e-10, 9.999999717180685e-10, 0.15348973870277405, 0.18161311745643616, 9.999999717180685e-10, 9.999999717180685e-10, 9.999999717180685e-10, 9.999999717180685e-10, 0.22069334983825684, 9.999999717180685e-10, 9.999999717180685e-10, 9.999999717180685e-10, 9.999999717180685e-10, 9.999999717180685e-10, 0.19258517026901245, 0.1914665848016739, 9.999999717180685e-10, 9.999999717180685e-10, 0.21861334145069122, 0.19130149483680725, 9.999999717180685e-10, 0.23744608461856842, 9.999999717180685e-10, 0.19638623297214508, 9.999999717180685e-10, 0.1962740272283554, 0.18533432483673096, 0.20266251266002655, 0.21887367963790894, 0.18201342225074768, 9.999999717180685e-10, 9.999999717180685e-10, 9.999999717180685e-10, 0.2006591111421585, 9.999999717180685e-10, 9.999999717180685e-10, 9.999999717180685e-10, 9.999999717180685e-10, 9.999999717180685e-10, 0.19532261788845062, 9.999999717180685e-10, 0.1831207573413849, 9.999999717180685e-10, 9.999999717180685e-10, 0.17992234230041504, 0.2229105830192566, 0.15148936212062836, 0.25493720173835754, 0.2390112727880478, 9.999999717180685e-10, 9.999999717180685e-10, 9.999999717180685e-10, 0.21222898364067078, 9.999999717180685e-10, 0.15917566418647766, 0.2086435854434967, 9.999999717180685e-10, 9.999999717180685e-10, 9.999999717180685e-10, 9.999999717180685e-10, 0.1699710339307785, 0.20986905694007874, 9.999999717180685e-10, 9.999999717180685e-10, 9.999999717180685e-10, 9.999999717180685e-10, 9.999999717180685e-10, 0.2347434163093567, 9.999999717180685e-10, 0.1957550197839737, 0.17197895050048828, 0.23355889320373535, 0.16540591418743134, 9.999999717180685e-10, 0.21664969623088837, 9.999999717180685e-10, 0.20364995300769806, 0.21698710322380066, 9.999999717180685e-10, 9.999999717180685e-10, 0.20115700364112854, 9.999999717180685e-10, 9.999999717180685e-10, 0.23458631336688995, 9.999999717180685e-10, 9.999999717180685e-10, 9.999999717180685e-10, 0.18971025943756104, 9.999999717180685e-10, 9.999999717180685e-10, 9.999999717180685e-10, 0.20731258392333984, 9.999999717180685e-10, 9.999999717180685e-10, 0.18983770906925201, 9.999999717180685e-10, 9.999999717180685e-10, 0.19592808187007904, 9.999999717180685e-10, 0.19874463975429535, 0.2025897055864334, 0.1571999341249466, 9.999999717180685e-10, 0.26631492376327515, 0.1998233050107956, 9.999999717180685e-10, 0.21022406220436096, 9.999999717180685e-10, 9.999999717180685e-10, 0.22930611670017242, 9.999999717180685e-10, 9.999999717180685e-10, 0.17851069569587708, 0.2021389901638031, 9.999999717180685e-10, 0.15028589963912964, 9.999999717180685e-10, 0.17928536236286163, 9.999999717180685e-10, 0.17396180331707, 0.22310417890548706, 0.16648922860622406, 0.19717375934123993, 0.242715522646904, 0.2163635492324829, 9.999999717180685e-10, 0.20309872925281525, 9.999999717180685e-10, 0.22788362205028534, 0.21638275682926178, 0.23187343776226044, 0.20549233257770538, 9.999999717180685e-10, 9.999999717180685e-10, 9.999999717180685e-10, 9.999999717180685e-10, 0.21956022083759308, 9.999999717180685e-10, 9.999999717180685e-10, 9.999999717180685e-10, 9.999999717180685e-10, 9.999999717180685e-10, 9.999999717180685e-10, 0.20272919535636902, 9.999999717180685e-10, 9.999999717180685e-10, 9.999999717180685e-10, 9.999999717180685e-10, 9.999999717180685e-10, 9.999999717180685e-10, 9.999999717180685e-10, 9.999999717180685e-10, 9.999999717180685e-10, 0.22340922057628632, 9.999999717180685e-10, 9.999999717180685e-10, 9.999999717180685e-10, 9.999999717180685e-10, 0.1941453516483307, 9.999999717180685e-10, 0.16833852231502533, 9.999999717180685e-10, 9.999999717180685e-10, 0.19043004512786865, 9.999999717180685e-10, 9.999999717180685e-10, 9.999999717180685e-10, 0.16532336175441742, 9.999999717180685e-10, 9.999999717180685e-10, 9.999999717180685e-10, 9.999999717180685e-10, 0.22046522796154022, 9.999999717180685e-10, 9.999999717180685e-10, 9.999999717180685e-10, 0.21283110976219177, 9.999999717180685e-10, 0.2301306277513504, 9.999999717180685e-10, 0.21273571252822876, 9.999999717180685e-10, 9.999999717180685e-10, 9.999999717180685e-10, 0.19892367720603943, 9.999999717180685e-10, 0.16696879267692566, 9.999999717180685e-10, 9.999999717180685e-10, 9.999999717180685e-10, 9.999999717180685e-10, 9.999999717180685e-10, 9.999999717180685e-10, 9.999999717180685e-10, 9.999999717180685e-10, 9.999999717180685e-10, 0.18980391323566437, 9.999999717180685e-10, 0.1886206567287445, 9.999999717180685e-10, 9.999999717180685e-10, 0.18287509679794312, 0.25423169136047363, 9.999999717180685e-10, 9.999999717180685e-10, 9.999999717180685e-10, 9.999999717180685e-10, 9.999999717180685e-10, 9.999999717180685e-10, 9.999999717180685e-10, 9.999999717180685e-10, 9.999999717180685e-10, 9.999999717180685e-10, 0.25825926661491394, 9.999999717180685e-10, 9.999999717180685e-10, 9.999999717180685e-10, 0.16719651222229004, 9.999999717180685e-10, 9.999999717180685e-10, 9.999999717180685e-10, 9.999999717180685e-10, 9.999999717180685e-10, 0.1983872950077057, 9.999999717180685e-10, 0.18606199324131012, 9.999999717180685e-10, 0.24049322307109833, 0.1977369636297226, 0.21783185005187988, 9.999999717180685e-10, 9.999999717180685e-10, 9.999999717180685e-10, 9.999999717180685e-10, 0.2693517208099365, 9.999999717180685e-10, 9.999999717180685e-10, 9.999999717180685e-10, 9.999999717180685e-10, 0.19202415645122528, 0.19346021115779877, 0.17369931936264038, 0.1931673288345337, 9.999999717180685e-10, 9.999999717180685e-10, 0.20561563968658447, 9.999999717180685e-10, 9.999999717180685e-10, 0.2033260017633438, 9.999999717180685e-10, 9.999999717180685e-10, 9.999999717180685e-10, 9.999999717180685e-10, 9.999999717180685e-10, 0.20224547386169434, 9.999999717180685e-10, 0.14736579358577728, 9.999999717180685e-10, 0.24700723588466644, 9.999999717180685e-10, 9.999999717180685e-10, 9.999999717180685e-10, 9.999999717180685e-10, 0.2526198923587799, 9.999999717180685e-10, 9.999999717180685e-10, 9.999999717180685e-10, 0.24280081689357758, 0.18956977128982544, 0.18384991586208344, 9.999999717180685e-10, 9.999999717180685e-10, 9.999999717180685e-10, 9.999999717180685e-10, 9.999999717180685e-10, 0.23546595871448517, 0.22230121493339539, 0.18833018839359283, 9.999999717180685e-10, 0.23416848480701447, 9.999999717180685e-10, 0.2043837606906891, 0.24997153878211975, 9.999999717180685e-10, 0.16681411862373352, 9.999999717180685e-10, 9.999999717180685e-10, 9.999999717180685e-10, 9.999999717180685e-10, 9.999999717180685e-10, 0.20237542688846588, 9.999999717180685e-10, 9.999999717180685e-10, 9.999999717180685e-10, 0.2000345140695572, 9.999999717180685e-10, 9.999999717180685e-10, 9.999999717180685e-10, 0.1892986297607422, 9.999999717180685e-10, 0.27822497487068176, 9.999999717180685e-10, 9.999999717180685e-10, 0.1575019210577011, 9.999999717180685e-10, 9.999999717180685e-10, 9.999999717180685e-10, 0.17874906957149506, 9.999999717180685e-10, 9.999999717180685e-10, 9.999999717180685e-10, 9.999999717180685e-10, 9.999999717180685e-10, 0.24598661065101624, 9.999999717180685e-10, 0.23138539493083954, 9.999999717180685e-10, 0.2437903881072998, 9.999999717180685e-10, 0.19378529489040375, 9.999999717180685e-10, 9.999999717180685e-10, 0.23666420578956604, 9.999999717180685e-10, 9.999999717180685e-10, 9.999999717180685e-10, 0.2315492182970047, 9.999999717180685e-10, 0.24830195307731628, 0.1992851197719574, 9.999999717180685e-10, 0.1860833317041397, 9.999999717180685e-10, 0.24554423987865448, 9.999999717180685e-10, 0.2040259838104248, 9.999999717180685e-10, 9.999999717180685e-10, 0.16753517091274261, 9.999999717180685e-10, 0.1671258509159088, 9.999999717180685e-10, 9.999999717180685e-10, 9.999999717180685e-10, 9.999999717180685e-10, 0.22453312575817108, 0.18024367094039917, 9.999999717180685e-10, 9.999999717180685e-10, 9.999999717180685e-10, 9.999999717180685e-10, 9.999999717180685e-10, 9.999999717180685e-10, 9.999999717180685e-10, 9.999999717180685e-10, 0.19573098421096802, 0.21154949069023132, 0.2254241406917572, 9.999999717180685e-10, 9.999999717180685e-10, 9.999999717180685e-10, 0.202466681599617, 0.17787772417068481, 9.999999717180685e-10, 9.999999717180685e-10, 9.999999717180685e-10, 0.24325847625732422, 9.999999717180685e-10, 9.999999717180685e-10, 9.999999717180685e-10, 9.999999717180685e-10, 0.22799862921237946, 9.999999717180685e-10, 0.16760700941085815, 0.2153611183166504, 0.17839902639389038, 9.999999717180685e-10, 0.2589699327945709, 9.999999717180685e-10, 0.22880399227142334, 9.999999717180685e-10, 0.22808028757572174, 9.999999717180685e-10, 0.19076688587665558, 9.999999717180685e-10, 9.999999717180685e-10, 9.999999717180685e-10, 0.2398155927658081, 0.22188208997249603, 0.20235902070999146, 0.1964663416147232, 9.999999717180685e-10, 9.999999717180685e-10, 9.999999717180685e-10, 9.999999717180685e-10, 0.21287481486797333, 9.999999717180685e-10, 0.2194480001926422, 9.999999717180685e-10, 9.999999717180685e-10, 9.999999717180685e-10, 9.999999717180685e-10, 9.999999717180685e-10, 9.999999717180685e-10, 0.1354474127292633, 0.1833856850862503, 9.999999717180685e-10, 9.999999717180685e-10, 0.21885628998279572, 0.20826655626296997, 9.999999717180685e-10, 9.999999717180685e-10, 9.999999717180685e-10, 9.999999717180685e-10, 9.999999717180685e-10, 0.17144550383090973, 9.999999717180685e-10, 9.999999717180685e-10, 9.999999717180685e-10, 9.999999717180685e-10, 9.999999717180685e-10, 0.19606584310531616, 0.24350164830684662, 9.999999717180685e-10, 0.20213790237903595, 9.999999717180685e-10, 0.18447552621364594, 0.22112905979156494, 9.999999717180685e-10, 9.999999717180685e-10, 9.999999717180685e-10, 0.17790837585926056, 9.999999717180685e-10, 0.23237042129039764, 9.999999717180685e-10, 9.999999717180685e-10, 9.999999717180685e-10, 9.999999717180685e-10, 9.999999717180685e-10, 9.999999717180685e-10, 9.999999717180685e-10, 9.999999717180685e-10, 9.999999717180685e-10, 9.999999717180685e-10, 0.1894361972808838, 0.1717260628938675, 9.999999717180685e-10, 0.20552438497543335, 9.999999717180685e-10, 9.999999717180685e-10, 9.999999717180685e-10, 9.999999717180685e-10, 9.999999717180685e-10, 9.999999717180685e-10, 0.16115541756153107, 0.24549934267997742, 0.1841237097978592, 0.22891145944595337, 9.999999717180685e-10, 0.19107462465763092, 0.17700321972370148, 9.999999717180685e-10, 9.999999717180685e-10, 9.999999717180685e-10, 9.999999717180685e-10, 9.999999717180685e-10, 9.999999717180685e-10, 9.999999717180685e-10, 9.999999717180685e-10, 0.20206524431705475, 9.999999717180685e-10, 9.999999717180685e-10, 9.999999717180685e-10, 9.999999717180685e-10, 9.999999717180685e-10, 9.999999717180685e-10, 9.999999717180685e-10, 0.20023766160011292, 9.999999717180685e-10, 9.999999717180685e-10, 9.999999717180685e-10, 0.1583339273929596, 9.999999717180685e-10, 9.999999717180685e-10, 0.1641644984483719, 9.999999717180685e-10, 0.21809221804141998, 9.999999717180685e-10, 0.22428451478481293, 0.16829518973827362, 9.999999717180685e-10, 9.999999717180685e-10, 9.999999717180685e-10, 9.999999717180685e-10, 0.15736137330532074, 9.999999717180685e-10, 0.2096494883298874, 9.999999717180685e-10, 0.21423614025115967, 9.999999717180685e-10, 9.999999717180685e-10, 9.999999717180685e-10, 9.999999717180685e-10, 9.999999717180685e-10, 0.23768191039562225, 9.999999717180685e-10, 9.999999717180685e-10, 0.17889082431793213, 9.999999717180685e-10, 0.2704823315143585, 0.19744718074798584, 9.999999717180685e-10, 9.999999717180685e-10, 9.999999717180685e-10, 0.194279283285141, 0.18119944632053375, 9.999999717180685e-10, 9.999999717180685e-10, 9.999999717180685e-10, 0.21358071267604828, 0.20156452059745789, 0.1884508579969406, 9.999999717180685e-10, 9.999999717180685e-10, 0.2341328263282776, 9.999999717180685e-10, 9.999999717180685e-10, 0.1654224693775177, 0.22131402790546417, 9.999999717180685e-10, 0.17199279367923737, 9.999999717180685e-10, 9.999999717180685e-10, 9.999999717180685e-10, 9.999999717180685e-10, 9.999999717180685e-10, 0.2130419909954071, 0.22069334983825684, 0.20737212896347046, 9.999999717180685e-10, 0.17229005694389343, 9.999999717180685e-10, 9.999999717180685e-10, 9.999999717180685e-10, 0.19315138459205627, 0.13860160112380981, 9.999999717180685e-10, 0.16939252614974976, 9.999999717180685e-10, 0.21420197188854218, 9.999999717180685e-10, 9.999999717180685e-10, 9.999999717180685e-10, 0.18072538077831268, 9.999999717180685e-10, 0.204423189163208, 0.2023027241230011, 9.999999717180685e-10, 9.999999717180685e-10, 9.999999717180685e-10, 9.999999717180685e-10, 9.999999717180685e-10, 9.999999717180685e-10, 9.999999717180685e-10, 9.999999717180685e-10, 9.999999717180685e-10, 9.999999717180685e-10, 0.2099544256925583, 0.27576327323913574, 0.24337667226791382, 9.999999717180685e-10, 9.999999717180685e-10, 0.23326905071735382, 9.999999717180685e-10, 0.20539182424545288, 9.999999717180685e-10, 9.999999717180685e-10, 9.999999717180685e-10, 9.999999717180685e-10, 9.999999717180685e-10, 0.21511121094226837, 9.999999717180685e-10, 9.999999717180685e-10, 9.999999717180685e-10, 0.21943719685077667, 9.999999717180685e-10, 9.999999717180685e-10, 0.1654013842344284, 9.999999717180685e-10, 9.999999717180685e-10, 0.17613206803798676]]\n"
     ]
    }
   ],
   "source": [
    "ypredB = ypred.numpy().tolist()\n",
    "print(ypredB)"
   ]
  },
  {
   "cell_type": "code",
   "execution_count": 126,
   "metadata": {},
   "outputs": [],
   "source": [
    "ypredA = []\n",
    "for i in ypredB:\n",
    "    for j in i:\n",
    "        if(j >= 0.5):\n",
    "            ypredA.append(1)\n",
    "        else:\n",
    "            ypredA.append(0)"
   ]
  },
  {
   "cell_type": "code",
   "execution_count": 130,
   "metadata": {},
   "outputs": [
    {
     "data": {
      "text/plain": [
       "0.7968"
      ]
     },
     "execution_count": 130,
     "metadata": {},
     "output_type": "execute_result"
    }
   ],
   "source": [
    "accuracy_score(y_test, ypredA)"
   ]
  },
  {
   "cell_type": "code",
   "execution_count": null,
   "metadata": {},
   "outputs": [],
   "source": []
  }
 ],
 "metadata": {
  "colab": {
   "provenance": []
  },
  "kernelspec": {
   "display_name": "Python 3 (ipykernel)",
   "language": "python",
   "name": "python3"
  },
  "language_info": {
   "codemirror_mode": {
    "name": "ipython",
    "version": 3
   },
   "file_extension": ".py",
   "mimetype": "text/x-python",
   "name": "python",
   "nbconvert_exporter": "python",
   "pygments_lexer": "ipython3",
   "version": "3.9.12"
  }
 },
 "nbformat": 4,
 "nbformat_minor": 1
}
